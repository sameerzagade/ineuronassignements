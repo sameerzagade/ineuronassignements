{
 "cells": [
  {
   "cell_type": "markdown",
   "id": "4f48277b",
   "metadata": {},
   "source": [
    "1. What is the relationship between def statements and lambda expressions ?\n",
    "\n",
    "Ans:\n",
    "Both def statements and lambda expressions in Python are used to define functions, but they have some key differences in terms of syntax, capabilities,\n",
    "and use cases.\n",
    "\n",
    "'def' Statements: Functions defined using def statements have a more comprehensive syntax and structure. They have name of the function. They can contain multiple statements, have a name, can have multiple parameters, and can include documentation strings.Generally multiple lines of code.def Statement can have multiple statements in their body, allowing for more complex logic and flow control. def Statement is used as you need to define complex functions with multiple statements\n",
    "'Lambda' Expressions: Lambda expressions, also known as lambda functions, are more concise and limited in syntax. They don't have name of the function. They are defined using the lambda keyword followed by parameter(s) and an expression.Generally one line of code.Lambda expressions are limited to a single expression. lambda expressions is used for simple, short-lived function for tasks like filtering, mapping, or sorting\n"
   ]
  },
  {
   "cell_type": "markdown",
   "id": "797a24e4",
   "metadata": {},
   "source": [
    "2. What is the benefit of lambda?\n",
    "Ans:\n",
    "\n",
    "Lambda functions are inline functions and thus execute comparatively faster. Lambda functions make code much more readable by avoiding the logical jumps caused by function calls. Its Concise, readable, Reduce Code Overhead, create Anonymous Functions,Immediate Evaluation, and code Localisation."
   ]
  },
  {
   "cell_type": "markdown",
   "id": "f45396fc",
   "metadata": {},
   "source": [
    "3. Compare and contrast map, filter, and reduce.\n",
    "\n",
    "Ans:\n",
    "\n",
    "map\n",
    "Purpose: The map function applies a given function to each element of a sequence and returns an iterator of the results.\n",
    "Syntax: map(function, sequence)\n",
    "Usage: Use map when you want to apply a specific operation or transformation to each element of a sequence and collect the results.\n",
    "\n",
    "filter\n",
    "Purpose: The filter function filters a sequence based on a given function that tests each element for a condition. It returns an iterator containing the elements that pass the test.\n",
    "Syntax: filter(function, sequence)\n",
    "Usage: Use filter when you want to select elements from a sequence that satisfy a specific condition.\n",
    "\n",
    "reduce:\n",
    "Purpose: The reduce function is used for aggregation and iteratively applies a binary function to the elements of a sequence, accumulating a single result.\n",
    "Syntax: functools.reduce(function, sequence, initial_value)\n",
    "Usage: Use reduce when you need to perform a cumulative operation on the elements of a sequence, reducing them to a single value.\n"
   ]
  },
  {
   "cell_type": "markdown",
   "id": "76af9436",
   "metadata": {},
   "source": [
    "4. What are function annotations, and how are they used?\n",
    "\n",
    "Ans:\n",
    "\n",
    "Function annotations in Python are a way to add metadata or additional information to the parameters and return value of a function. These annotations don't affect the actual behavior of the function but provide useful hints about the expected types, purposes, or usage of the function's inputs and outputs. Function annotations are defined using colons (:) after the parameter names and the return value in the function's signature.\n",
    "\n",
    "Syntax :\n",
    "\n",
    "def func(a: 'int') -> 'int':\n",
    "pass\n",
    "Annotations for simple parameters:\n",
    "\n",
    "def func(x: 'float'=10.8, y: 'argument2'):\n",
    "In the above code the argument, ‘x’ of the function func, has been annotated to float data type and the argument ‘y’ has a string-based annotation. The argument can also be assigned to a default value using a ‘=’ symbol followed by the default value. These default values are optional to the code.\n",
    "Annotations for return values:\n",
    "\n",
    "def func(a: expression) -> 'int':\n",
    "The annotations for the return value is written after the ‘->’ symbol."
   ]
  },
  {
   "cell_type": "markdown",
   "id": "3b6a1166",
   "metadata": {},
   "source": [
    "5. What are recursive functions, and how are they used?\n",
    "\n",
    "Ans:\n",
    "\n",
    "A recursive function is a function that calls itself as a part of its own execution. In other words, a recursive function solves a problem by breaking it down into smaller, simpler instances of the same problem. Recursive functions are particularly useful for solving problems that can be divided into subproblems that are similar to the original problem."
   ]
  },
  {
   "cell_type": "markdown",
   "id": "bc11fbff",
   "metadata": {},
   "source": [
    "6. What are some general design guidelines for coding functions?\n",
    "\n",
    "Ans:\n",
    "Single Responsibility Principle (SRP)\n",
    "Clear and Descriptive Names \n",
    "Modularity \n",
    "Abstraction\n",
    "Maintain consistent naming conventions, indentation, and formatting\n",
    "Avoid Global Variables \n",
    "Avoid Side Effects\n",
    "Keep Functions Small\n",
    "Use Meaningful Parameters\n",
    "Default Values for Optional Parameters\n",
    "Documentation and Comments\n",
    "Error Handling\n",
    "Avoid Deep Nesting\n",
    "Refactoring\n",
    "Consolidate Duplicates\n",
    "\n"
   ]
  },
  {
   "cell_type": "markdown",
   "id": "6d66da38",
   "metadata": {},
   "source": [
    "7. Name three or more ways that functions can communicate results to a caller.\n",
    "\n",
    "Ans:\n",
    "\n",
    "Return Values: The most common way for functions to communicate results is by returning a value using the return statement. The value returned by the function can be assigned to a variable in the calling code.\n",
    "\n",
    "Mutable Data Structures: Functions can modify mutable data structures (like lists, dictionaries) that are passed as arguments. Changes made to these structures within the function are reflected outside the function's scope.\n",
    "\n",
    "Global Variables: Functions can communicate results by modifying or using global variables. However, using global variables is generally discouraged as it can lead to code that is harder to understand and maintain.\n",
    "\n",
    "Exceptions: Functions can raise exceptions to indicate errors or exceptional conditions. The caller can catch these exceptions to handle specific scenarios or errors."
   ]
  }
 ],
 "metadata": {
  "kernelspec": {
   "display_name": "Python 3 (ipykernel)",
   "language": "python",
   "name": "python3"
  },
  "language_info": {
   "codemirror_mode": {
    "name": "ipython",
    "version": 3
   },
   "file_extension": ".py",
   "mimetype": "text/x-python",
   "name": "python",
   "nbconvert_exporter": "python",
   "pygments_lexer": "ipython3",
   "version": "3.10.5"
  }
 },
 "nbformat": 4,
 "nbformat_minor": 5
}
