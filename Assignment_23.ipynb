{
 "cells": [
  {
   "cell_type": "code",
   "execution_count": null,
   "id": "1417751e",
   "metadata": {},
   "outputs": [],
   "source": [
    "#1. What is the result of the code, and why?\n",
    "#def func(a, b=6, c=8):\n",
    "#print(a, b, c)\n",
    "#func(1, 2)\n",
    "\n",
    "Ans:\n",
    "This funtion is taking a positional argument and 2 keyward argument. When function is called, parameter passed are a=1,b=2. When the function is executed , \n",
    "parameter c=8 will be taken by default as its a keyword argument.solution is = 1,2,8\n",
    "     \n",
    "    "
   ]
  },
  {
   "cell_type": "code",
   "execution_count": null,
   "id": "d30e74e4",
   "metadata": {},
   "outputs": [],
   "source": [
    "#2. What is the result of this code, and why?\n",
    "#>>> def func(a, b, c=5):\n",
    "#print(a, b, c)\n",
    "#>>> func(1, c=3, b=2)\n",
    "\n",
    "#Ans:\n",
    "When we call function we should give positional argument and then keywords arguments. we can pass the keyword arguments in any order we want.\n",
    "Solution is 1,2,3\n",
    "\n"
   ]
  },
  {
   "cell_type": "code",
   "execution_count": null,
   "id": "697815db",
   "metadata": {},
   "outputs": [],
   "source": [
    "#3. How about this code: what is its result, and why?\n",
    "#>>> def func(a, *pargs):\n",
    "#print(a, pargs)\n",
    "#>>> func(1, 2, 3)\n",
    "\n",
    "#Ans:\n",
    "solution is 1 (2, 3)\n",
    "The return type of *args parameter is tuple hence last two values are printed as tuples"
   ]
  },
  {
   "cell_type": "code",
   "execution_count": null,
   "id": "f367b8ec",
   "metadata": {},
   "outputs": [],
   "source": [
    "#4. What does this code print, and why?\n",
    "#>>> def func(a, **kargs):\n",
    "#print(a, kargs)\n",
    "#>>> func(a=1, c=3, b=2)\n",
    "\n",
    "#Ans:\n",
    "Solution is 1 {'c': 3, 'b': 2}\n",
    "The return type of **kargs parameter is dictionary, hence, \n"
   ]
  },
  {
   "cell_type": "code",
   "execution_count": null,
   "id": "74a0731c",
   "metadata": {
    "scrolled": true
   },
   "outputs": [],
   "source": [
    "#5. What gets printed by this, and explain?\n",
    "#>>> def func(a, b, c=8, d=5): print(a, b, c, d)\n",
    "#>>> func(1, *(5, 6))\n",
    "\n",
    "#Ans:\n",
    "The asterisk (*) before (5, 6) indicates unpacking the tuple (5, 6) into individual arguments. \n",
    "a is assigned the value 1.\n",
    "b is assigned the value 5 due to the unpacking of the tuple (5, 6).\n",
    "c is assigned the value 6 (the second element of the unpacked tuple) because the default value of c is overridden by the provided value 6.\n",
    "d retains its default value of 5.\n"
   ]
  },
  {
   "cell_type": "code",
   "execution_count": null,
   "id": "9315c626",
   "metadata": {},
   "outputs": [],
   "source": [
    "#6. what is the result of this, and explain?\n",
    "#>>> def func(a, b, c): a = 2; b[0] = 'x'; c['a'] = 'y'\n",
    "#>>> l=1; m=[1]; n={'a':0}\n",
    "#>>> func(l, m, n)\n",
    " \n",
    "#Ans:\n",
    "Here in the code, the list and dict are passed as argument, and those are mutable. Here the list l and parameter b point \n",
    "to the same list in the memory location where as dict n and c point to the same memory location. Any updates to this list will update in the memory location\n",
    "\n",
    "l = 1 , integer values, immutable, m is list, mutable, n is dict, mutable.\n",
    "solution will be = 1,['x'],{'a':'y'}\n",
    "        "
   ]
  },
  {
   "cell_type": "code",
   "execution_count": null,
   "id": "f6a2465f",
   "metadata": {},
   "outputs": [],
   "source": []
  }
 ],
 "metadata": {
  "kernelspec": {
   "display_name": "Python 3 (ipykernel)",
   "language": "python",
   "name": "python3"
  },
  "language_info": {
   "codemirror_mode": {
    "name": "ipython",
    "version": 3
   },
   "file_extension": ".py",
   "mimetype": "text/x-python",
   "name": "python",
   "nbconvert_exporter": "python",
   "pygments_lexer": "ipython3",
   "version": "3.10.5"
  }
 },
 "nbformat": 4,
 "nbformat_minor": 5
}
