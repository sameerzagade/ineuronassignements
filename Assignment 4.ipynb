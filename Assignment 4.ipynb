{
 "cells": [
  {
   "cell_type": "code",
   "execution_count": null,
   "id": "8ceea88d-25c5-40ae-9891-b8f94baa3ae4",
   "metadata": {},
   "outputs": [],
   "source": [
    "1. What exactly is []?\n",
    "\n",
    "Ans:\n",
    "    This is an empty list"
   ]
  },
  {
   "cell_type": "code",
   "execution_count": null,
   "id": "eacabcff-becc-475b-a557-e4d77a090e2f",
   "metadata": {},
   "outputs": [],
   "source": [
    "2. In a list of values stored in a variable called spam, how would you assign the value 'hello' as the third value? \n",
    "(Assume [2, 4, 6, 8, 10] are in spam.) \n",
    "\n",
    "Ans:\n",
    "    spam = [2,4,6,8,10]\n",
    "    spam [2] = 'hello'\n",
    "    "
   ]
  },
  {
   "cell_type": "code",
   "execution_count": null,
   "id": "c820ed9b-5f7f-4d62-a9b3-4277aaada1d8",
   "metadata": {},
   "outputs": [],
   "source": [
    "Let's pretend the spam includes the list ['a', 'b', 'c', 'd'] for the next three queries.\n",
    "3. What is the value of spam[int(int('3' * 2) / 11)]?\n",
    "\n",
    "Ans:\n",
    "    spam[3]\n",
    "    'd'"
   ]
  },
  {
   "cell_type": "code",
   "execution_count": null,
   "id": "d0e245a2-fd7d-4e82-8761-2d15c677a75e",
   "metadata": {},
   "outputs": [],
   "source": [
    "4. What is the value of spam[-1]?\n",
    "Ans:\n",
    "    'd'"
   ]
  },
  {
   "cell_type": "code",
   "execution_count": null,
   "id": "ab5203fd-f551-4bbf-80c4-e35c83cf7eb0",
   "metadata": {},
   "outputs": [],
   "source": [
    "5. What is the value of spam[:2]?\n",
    "\n",
    "Ans:\n",
    "    ['a', 'b']\n",
    "    "
   ]
  },
  {
   "cell_type": "code",
   "execution_count": null,
   "id": "ce102ea1-3688-4a24-a562-f63f45734920",
   "metadata": {},
   "outputs": [],
   "source": [
    "Let's pretend bacon has the list [3.14, 'cat', 11, 'cat', True] for the next three questions.\n",
    "\n",
    "6. What is the value of bacon.index('cat')?\n",
    "\n",
    "Ans:\n",
    "    1"
   ]
  },
  {
   "cell_type": "code",
   "execution_count": null,
   "id": "c1a431f9-2cb2-4950-91da-82eb6469cc80",
   "metadata": {},
   "outputs": [],
   "source": [
    "7. How does bacon.append(99) change the look of the list value in bacon?\n",
    "Ans:\n",
    "    bacon =  [3.14, 'cat', 11, 'cat', True, 99]"
   ]
  },
  {
   "cell_type": "code",
   "execution_count": null,
   "id": "470b9320-fc8f-4ba1-9a5f-06d0ba684d52",
   "metadata": {},
   "outputs": [],
   "source": [
    "8. How does bacon.remove('cat') change the look of the list in bacon?\n",
    "Ans:\n",
    "    bacon = [3.14, 11, 'cat', True]"
   ]
  },
  {
   "cell_type": "code",
   "execution_count": null,
   "id": "bf0626fc-ae8c-461e-ba4f-91671b80d575",
   "metadata": {},
   "outputs": [],
   "source": [
    "9. What are the list concatenation and list replication operators?\n",
    "Ans:\n",
    "    List conactination operators is + and list replication operators is *"
   ]
  },
  {
   "cell_type": "code",
   "execution_count": null,
   "id": "94e1fa8b-a0b6-40ab-9a8f-2c4d18be3cc5",
   "metadata": {},
   "outputs": [],
   "source": [
    "10. What is difference between the list methods append() and insert()?\n",
    "\n",
    "Ans:\n",
    "    append() function add the element at the end of the list\n",
    "    insert() function add the element at any index in the list"
   ]
  },
  {
   "cell_type": "code",
   "execution_count": null,
   "id": "61957c23-7f4a-4a9b-bc00-5135431057d7",
   "metadata": {},
   "outputs": [],
   "source": [
    "11. What are the two methods for removing items from a list?\n",
    "\n",
    "Ans:\n",
    "    remove('value') will remove the given element from the list\n",
    "    pop(index) will remove the element at given index from the list"
   ]
  },
  {
   "cell_type": "code",
   "execution_count": null,
   "id": "0222dd2f-3f98-4084-8e70-4f08374689cb",
   "metadata": {},
   "outputs": [],
   "source": [
    "12. Describe how list values and string values are identical.\n",
    "\n",
    "Ans:\n",
    "    List index slicing is same as string. we can call out the values by giving index in both data type. List and string both are iterable data type.\n",
    "    We can concatenate and replicate both data types."
   ]
  },
  {
   "cell_type": "code",
   "execution_count": null,
   "id": "f92a0182-974b-48b8-af1d-69ea0d793630",
   "metadata": {},
   "outputs": [],
   "source": [
    "13. What's the difference between tuples and lists?\n",
    "Ans: \n",
    "    List is muttable and tuples are immutable. List is stored in square brackets and tuples are stored in round brackets. \n",
    "    Tuples are fast in computation than List. "
   ]
  },
  {
   "cell_type": "code",
   "execution_count": null,
   "id": "82d3ae13-909f-473a-9749-1801d453ac24",
   "metadata": {},
   "outputs": [],
   "source": [
    "14. How do you type a tuple value that only contains the integer 42?\n",
    "Ans:\n",
    "    tuple= (42,)\n"
   ]
  },
  {
   "cell_type": "code",
   "execution_count": null,
   "id": "8474d6ff-37e8-4681-b5fb-80b40a22d383",
   "metadata": {},
   "outputs": [],
   "source": [
    "15. How do you get a list value's tuple form? How do you get a tuple value's list form?\n",
    "Ans:\n",
    "    L = [1, 2, 3, 4]\n",
    "    To convert list L in tuple \n",
    "    tuple(L)\n",
    "    \n",
    "    t = (1, 2,3, 4)\n",
    "    to convert tuples t in list \n",
    "    list[t]"
   ]
  },
  {
   "cell_type": "code",
   "execution_count": null,
   "id": "787be91b-0e1d-4d5b-82d2-a482fd78b730",
   "metadata": {},
   "outputs": [],
   "source": [
    "16. Variables that \"contain\" list values are not necessarily lists themselves. Instead, what do they contain?\n",
    "\n",
    "Ans:\n",
    "    They contain references to list values."
   ]
  },
  {
   "cell_type": "code",
   "execution_count": null,
   "id": "3e6af974-ad7a-4015-ab00-2028b8da60ad",
   "metadata": {},
   "outputs": [],
   "source": [
    "17. How do you distinguish between copy.copy() and copy.deepcopy()?\n",
    "\n",
    "Ans:\n",
    "    copy() create reference to original object. If you change copied object - you change the original object.\n",
    "    deepcopy() creates new object and does real copying of original object to new one. \n",
    "    Changing new deepcopied object doesn't affect original object."
   ]
  }
 ],
 "metadata": {
  "kernelspec": {
   "display_name": "Python 3 (ipykernel)",
   "language": "python",
   "name": "python3"
  },
  "language_info": {
   "codemirror_mode": {
    "name": "ipython",
    "version": 3
   },
   "file_extension": ".py",
   "mimetype": "text/x-python",
   "name": "python",
   "nbconvert_exporter": "python",
   "pygments_lexer": "ipython3",
   "version": "3.10.6"
  }
 },
 "nbformat": 4,
 "nbformat_minor": 5
}
