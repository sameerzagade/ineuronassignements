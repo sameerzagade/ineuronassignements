{
 "cells": [
  {
   "cell_type": "code",
   "execution_count": null,
   "id": "430d60f7",
   "metadata": {},
   "outputs": [],
   "source": [
    "1. What does RGBA stand for?\n",
    "Ans:\n",
    "RGBA stands for \"Red Green Blue Alpha\" It is a color model used to represent colors in digital imaging and computer graphics.\n",
    "Wherein Alpha Specifies the level of transparency or opacity of the color,"
   ]
  },
  {
   "cell_type": "code",
   "execution_count": null,
   "id": "c817ae6e",
   "metadata": {},
   "outputs": [],
   "source": [
    "2. From the Pillow module, how do you get the RGBA value of any images?\n",
    "Ans:\n",
    "    To get the RGBA (Red Green Blue Alpha) value of any pixel in an image using the Pillow (PIL) module in Python, we can use getpixel()"
   ]
  },
  {
   "cell_type": "code",
   "execution_count": null,
   "id": "697a6c7d",
   "metadata": {},
   "outputs": [],
   "source": [
    "3. What is a box tuple, and how does it work?\n",
    "Ans:\n",
    "     \"box tuple\" is a tuple that defines a rectangular region within an image. This tuple contains four integer values that represent the coordinates \n",
    "        of the top-left and bottom-right corners of the rectangle. The box tuple is commonly used for specifying regions of interest (ROIs) or \n",
    "        cropping areas within an image."
   ]
  },
  {
   "cell_type": "code",
   "execution_count": null,
   "id": "c4b29f5d",
   "metadata": {},
   "outputs": [],
   "source": [
    "4. Use your image and load in notebook then, How can you find out the width and height of an Image object?\n",
    "\n",
    "Ans:\n",
    "    To find out the width and height of an Image object using the Pillow (PIL) library, we can use the size attribute of the Image object. \n",
    "    The size attribute returns a tuple containing the width and height of the image.\n",
    "    \n",
    "    image.size\n"
   ]
  },
  {
   "cell_type": "code",
   "execution_count": null,
   "id": "522bd37c",
   "metadata": {},
   "outputs": [],
   "source": [
    "5. What method would you call to get Image object for a 100×100 image, excluding the lower-left quarter of it?\n",
    "\n",
    "Ans:\n",
    "    We can use the crop() method of the Image object. \n",
    "\n",
    "from PIL import Image\n",
    "image = Image.open('original_image.png')\n",
    "\n",
    "left = 0\n",
    "upper = 0\n",
    "right = 50  \n",
    "lower = 50  \n",
    "cropped_image = image.crop((left, upper, right, lower))\n",
    "cropped_image.show()"
   ]
  },
  {
   "cell_type": "code",
   "execution_count": null,
   "id": "a51315f2",
   "metadata": {},
   "outputs": [],
   "source": [
    "6. After making changes to an Image object, how could you save it as an image file?\n",
    "\n",
    "Ans:\n",
    "    After making changes to an Image object using the Pillow (PIL) library in Python, we can save it as an image file using the save() method. \n",
    "    \n",
    "from PIL import Image\n",
    "image = Image.open('original_image.png')\n",
    "image.save('modified_image.png')"
   ]
  },
  {
   "cell_type": "code",
   "execution_count": null,
   "id": "4404ac85",
   "metadata": {},
   "outputs": [],
   "source": [
    "7. What module contains Pillow’s shape-drawing code?\n",
    "Ans:\n",
    "    Pillow's shape-drawing code is contained within the ImageDraw module. "
   ]
  },
  {
   "cell_type": "code",
   "execution_count": null,
   "id": "7ed4c9ec",
   "metadata": {},
   "outputs": [],
   "source": [
    "8. Image objects do not have drawing methods. What kind of object does? How do you get this kind of object?\n",
    "Ans:\n",
    "    Drawing methods are provided by the ImageDraw module, which allows you to create an ImageDraw object that is used to draw shapes, \n",
    "    text, and other annotations on Image objects.\n",
    "    To get an ImageDraw object, we need to create it by calling the ImageDraw.Draw() function and passing the Image object as an argument. \n",
    "    This ImageDraw object will have methods for drawing various shapes and annotations on the associated Image\n",
    "    \n",
    "from PIL import Image, ImageDraw\n",
    "\n",
    "image = Image.open('original_image.png') \n",
    "draw = ImageDraw.Draw(image)\n",
    "\n",
    "rectangle_coords = [(50, 50), (150, 150)] \n",
    "rectangle_color = (255, 0, 0)  \n",
    "draw.rectangle(rectangle_coords, outline=rectangle_color)\n",
    "image.show()"
   ]
  }
 ],
 "metadata": {
  "kernelspec": {
   "display_name": "Python 3 (ipykernel)",
   "language": "python",
   "name": "python3"
  },
  "language_info": {
   "codemirror_mode": {
    "name": "ipython",
    "version": 3
   },
   "file_extension": ".py",
   "mimetype": "text/x-python",
   "name": "python",
   "nbconvert_exporter": "python",
   "pygments_lexer": "ipython3",
   "version": "3.10.5"
  }
 },
 "nbformat": 4,
 "nbformat_minor": 5
}
