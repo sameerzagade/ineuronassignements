{
 "cells": [
  {
   "cell_type": "code",
   "execution_count": null,
   "id": "27938798",
   "metadata": {},
   "outputs": [],
   "source": [
    "1. Create an assert statement that throws an AssertionError if the variable spam is a negative integer.\n",
    "Ans:\n",
    "assert spam >= 0 "
   ]
  },
  {
   "cell_type": "code",
   "execution_count": null,
   "id": "3f16073a",
   "metadata": {},
   "outputs": [],
   "source": [
    "2. Write an assert statement that triggers an AssertionError if the variables eggs and bacon contain strings that are the same as each other, even if their cases are different (that is, 'hello' and 'hello' are considered the same, and 'goodbye' and 'GOODbye' are also considered the same).\n",
    "\n",
    "Ans:\n",
    "assert eggs.lower() != bacon.lower()"
   ]
  },
  {
   "cell_type": "code",
   "execution_count": null,
   "id": "d3ba2faf",
   "metadata": {},
   "outputs": [],
   "source": [
    "3. Create an assert statement that throws an AssertionError every time.\n",
    "Ans:\n",
    "assert False\n"
   ]
  },
  {
   "cell_type": "code",
   "execution_count": null,
   "id": "53760999",
   "metadata": {},
   "outputs": [],
   "source": [
    "4. What are the two lines that must be present in your software in order to call logging.debug()?\n",
    "Ans:\n",
    "    import logging\n",
    "    logging.basicConfig(level=logging.DEBUG)"
   ]
  },
  {
   "cell_type": "code",
   "execution_count": null,
   "id": "7f73aca1",
   "metadata": {},
   "outputs": [],
   "source": [
    "5. What are the two lines that your program must have in order to have logging.debug() send a logging message to a file named programLog.txt?\n",
    "Ans:\n",
    "    import logging\n",
    "    logging.basicConfig(filename='programLog.txt', level=logging.DEBUG)"
   ]
  },
  {
   "cell_type": "code",
   "execution_count": null,
   "id": "6afe8752",
   "metadata": {},
   "outputs": [],
   "source": [
    "6. What are the five levels of logging?\n",
    "Ans:\n",
    "CRITICAL: The most severe level. Used for critical errors that may cause the application to crash or become unusable.\n",
    "\n",
    "ERROR: Used for reporting errors that are not critical but indicate a problem with the application's functionality.\n",
    "\n",
    "WARNING: Used for warnings that may indicate potential issues or unexpected behavior.\n",
    "\n",
    "INFO: Used for providing information about the application's progress and important milestones. Generally used to report normal operational details.\n",
    "\n",
    "DEBUG: The least severe level. Used for detailed debugging information, typically used during development and debugging phases."
   ]
  },
  {
   "cell_type": "code",
   "execution_count": null,
   "id": "67779eec",
   "metadata": {},
   "outputs": [],
   "source": [
    "7. What line of code would you add to your software to disable all logging messages?\n",
    "Ans:\n",
    "    logging.disable(logging.CRITICAL + 1)"
   ]
  },
  {
   "cell_type": "code",
   "execution_count": null,
   "id": "990f6e9e",
   "metadata": {},
   "outputs": [],
   "source": [
    "8.Why is using logging messages better than using print() to display the same message?\n",
    "Ans:\n",
    "Granular Control: Logging allows you to categorize messages into different levels of severity (DEBUG, INFO, WARNING, ERROR, CRITICAL)\n",
    "Structured Information: Logging messages often include additional contextual information, like timestamps, loggers' names, and source code locations. This structured information can be crucial for diagnosing issues and tracing the source of a problem.\n",
    "Testing and Debugging: Logging messages are more suitable for debugging and testing scenarios. They can be controlled and filtered better, allowing you to focus on specific areas of concern.\n",
    "Standardization: Logging follows a standardized approach, making it easier for developers to understand and manage log messages across different parts of the codebase."
   ]
  },
  {
   "cell_type": "code",
   "execution_count": null,
   "id": "61d90b30",
   "metadata": {},
   "outputs": [],
   "source": [
    "9. What are the differences between the Step Over, Step In, and Step Out buttons in the debugger?\n",
    "Ans:\n",
    "\"Step Over\" lets you advance to the next line, treating function calls as a single unit.\n",
    "\"Step In\" lets you enter a called function and start debugging its code.\n",
    "\"Step Out\" lets you quickly return to the caller function after stepping into a function."
   ]
  },
  {
   "cell_type": "code",
   "execution_count": null,
   "id": "6c1eeac9",
   "metadata": {},
   "outputs": [],
   "source": [
    "10.After you click Continue, when will the debugger stop ?\n",
    "Ans:\n",
    "Breakpoint, Exception, program completion, External Interrupt, Manual Interaction"
   ]
  },
  {
   "cell_type": "code",
   "execution_count": null,
   "id": "0fd3ff72",
   "metadata": {},
   "outputs": [],
   "source": [
    "11. What is the concept of a breakpoint?\n",
    "\n",
    "Ans:\n",
    "    If there is a breakpoint set in the code, the debugger will stop when it reaches that breakpoint."
   ]
  }
 ],
 "metadata": {
  "kernelspec": {
   "display_name": "Python 3 (ipykernel)",
   "language": "python",
   "name": "python3"
  },
  "language_info": {
   "codemirror_mode": {
    "name": "ipython",
    "version": 3
   },
   "file_extension": ".py",
   "mimetype": "text/x-python",
   "name": "python",
   "nbconvert_exporter": "python",
   "pygments_lexer": "ipython3",
   "version": "3.10.5"
  }
 },
 "nbformat": 4,
 "nbformat_minor": 5
}
