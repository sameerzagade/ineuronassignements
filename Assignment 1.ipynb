{
 "cells": [
  {
   "cell_type": "code",
   "execution_count": null,
   "id": "c0d6c135",
   "metadata": {},
   "outputs": [],
   "source": [
    "1. In the below elements which of them are values or an expression? eg:- values can be\n",
    "integer or string and expressions will be mathematical operators.\n",
    "\n",
    "*\n",
    "‘hello’ \n",
    "-87.8 \n",
    "- \n",
    "/ \n",
    "+ \n",
    "6 \n",
    "\n",
    "Ans:\n",
    "\n",
    "* Operator\n",
    "‘hello’ values\n",
    "-87.8 values\n",
    "- Operator\n",
    "/ Operator\n",
    "+ Operator\n",
    "6 values\n"
   ]
  },
  {
   "cell_type": "code",
   "execution_count": null,
   "id": "b4ba1325",
   "metadata": {},
   "outputs": [],
   "source": [
    "2. What is the difference between string and variable?\n",
    "\n",
    "Ans:\n",
    "Variable is a placeholder where the data is stored and string is one of data type of the variable. String always start and end with qoutes "
   ]
  },
  {
   "cell_type": "code",
   "execution_count": null,
   "id": "d085822f",
   "metadata": {},
   "outputs": [],
   "source": [
    "3. Describe three different data types.\n",
    "\n",
    "Ans: \n",
    "String = Data type which is stored in text format is called as string\n",
    "Integer = Data type which is store whole number is called an integer\n",
    "Complex = Data type which has imaginary number is called as a complex data type\n",
    "Float = Data type which has fraction numbers are called float\n"
   ]
  },
  {
   "cell_type": "code",
   "execution_count": null,
   "id": "cbde9512",
   "metadata": {},
   "outputs": [],
   "source": [
    "4. What is an expression made up of? What do all expressions do?\n",
    "\n",
    "Ans:\n",
    "Expression is combination of operators. That is interpreted to produce another value."
   ]
  },
  {
   "cell_type": "code",
   "execution_count": null,
   "id": "fc7c832a",
   "metadata": {},
   "outputs": [],
   "source": [
    "5. This assignment statements, like spam = 10. What is the difference between an\n",
    "expression and a statement?\n",
    "\n",
    "Ans:\n",
    "Expression is combinations of variables operations that results in value. Statement means instruction which interpreter can execute. Expression evaluates to single value and satement doesn't."
   ]
  },
  {
   "cell_type": "code",
   "execution_count": null,
   "id": "c8e279e4",
   "metadata": {},
   "outputs": [],
   "source": [
    "6. After running the following code, what does the variable bacon contain?\n",
    "\n",
    "Ans:\n",
    "    \n",
    "bacon = 22\n",
    "bacon + 1\n",
    "bacon value is 23\n"
   ]
  },
  {
   "cell_type": "code",
   "execution_count": null,
   "id": "4e1bf53b",
   "metadata": {},
   "outputs": [],
   "source": [
    "7. What should the values of the following two terms be?\n",
    "\n",
    "Ans: \n",
    "    \n",
    "‘spam’ + ‘spamspam’  value is 'spamspamspam'\n",
    "‘spam’ * 3           value is 'spamspamspam'\n"
   ]
  },
  {
   "cell_type": "code",
   "execution_count": null,
   "id": "5dd8ff1a",
   "metadata": {},
   "outputs": [],
   "source": [
    "8. Why is eggs a valid variable name while 100 is invalid?\n",
    "\n",
    "Ans:\n",
    "\n",
    "Because 100 starts with integer and Variable names cannot begin with a number.\n",
    "    "
   ]
  },
  {
   "cell_type": "code",
   "execution_count": null,
   "id": "cfa5c268",
   "metadata": {},
   "outputs": [],
   "source": [
    "9. What three functions can be used to get the integer, floating-point number, or string\n",
    "version of a value?\n",
    "\n",
    "Ans:\n",
    "\n",
    "Int()\n",
    "Float()\n",
    "Str()\n"
   ]
  },
  {
   "cell_type": "code",
   "execution_count": null,
   "id": "23f43ef7",
   "metadata": {},
   "outputs": [],
   "source": [
    "10. Why does this expression cause an error? How can you fix it?\n",
    "\n",
    "Ans: \n",
    "\n",
    "Because 99 is an integer, and only strings can be concatenated to other strings with the + operator.\n",
    "\n",
    "‘I have eaten ‘ + 99 + ‘ burritos.’\n",
    "\n",
    "Fix: \n",
    "\n",
    "‘I have eaten ‘ + ‘99’ + ‘ burritos.’\n"
   ]
  }
 ],
 "metadata": {
  "kernelspec": {
   "display_name": "Python 3 (ipykernel)",
   "language": "python",
   "name": "python3"
  },
  "language_info": {
   "codemirror_mode": {
    "name": "ipython",
    "version": 3
   },
   "file_extension": ".py",
   "mimetype": "text/x-python",
   "name": "python",
   "nbconvert_exporter": "python",
   "pygments_lexer": "ipython3",
   "version": "3.10.5"
  }
 },
 "nbformat": 4,
 "nbformat_minor": 5
}
