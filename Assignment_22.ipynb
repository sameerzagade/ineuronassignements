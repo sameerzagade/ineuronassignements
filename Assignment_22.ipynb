{
 "cells": [
  {
   "cell_type": "code",
   "execution_count": null,
   "id": "66f60324",
   "metadata": {},
   "outputs": [],
   "source": [
    "#1. What is the result of the code, and explain?\n",
    "\n",
    "#>>> X = 'iNeuron'\n",
    "#>>> def func():\n",
    "#print(X)\n",
    "\n",
    "\n",
    "#>>> func()\n",
    "#Ans:\n",
    "\n",
    "The variable X is in the global scope, which means it can be accessed from anywhere in the code, including within the function func. \n",
    "Therefore, when func is called, it accesses the value of X and prints it, resulting in the output 'iNeuron'"
   ]
  },
  {
   "cell_type": "code",
   "execution_count": null,
   "id": "725cc569",
   "metadata": {},
   "outputs": [],
   "source": [
    "#2. What is the result of the code, and explain?\n",
    "#>>> X = 'iNeuron'\n",
    "#>>> def func():\n",
    "#X = 'NI!'\n",
    "\n",
    "#>>> func()\n",
    "#>>> print(X)\n",
    "\n",
    "#Ans:\n",
    "X = 'iNeuron' is global variable\n",
    "X = 'NI!' is local Variable\n",
    "\n",
    "The local variable X created within the func function is not accessible outside of the function's scope, so it doesn't affect the value of the global variable X.\n",
    "Therefore, when we print the global variable X after calling the function, it retains its original value 'iNeuron', and that's why the output is 'iNeuron'\n"
   ]
  },
  {
   "cell_type": "code",
   "execution_count": 3,
   "id": "bd7a9022",
   "metadata": {},
   "outputs": [],
   "source": [
    "#3. What does this code print, and why?\n",
    "\n",
    "#>>> X = 'iNeuron'\n",
    "#>>> def func():\n",
    "#X = 'NI'\n",
    "#print(X)\n",
    "\n",
    "\n",
    "#>>> func()\n",
    "#>>> print(X)\n",
    "\n",
    "#Ans:\n",
    "X = 'iNeuron' is global variable\n",
    "X = 'NI' is local Variable\n",
    "\n",
    "func(): This line calls the function func(). Inside the function, the local variable X is assigned the value 'NI',\n",
    "and the print(X) statement is executed, printing 'NI'\n",
    "    \n",
    "print(X): After the function call, this line prints the value of the global variable X, which is 'iNeuron'. \n",
    "The local variable X created within the function does not affect the value of the global variable X."
   ]
  },
  {
   "cell_type": "code",
   "execution_count": 11,
   "id": "eef58a7b",
   "metadata": {},
   "outputs": [
    {
     "name": "stdout",
     "output_type": "stream",
     "text": [
      "NI\n",
      "iNeuron\n"
     ]
    }
   ],
   "source": [
    "#4. What output does this code produce? Why?\n",
    "\n",
    "\n",
    "#>>> X = 'iNeuron'\n",
    "#>>> def func():\n",
    "#global X\n",
    "#X = 'NI'\n",
    "\n",
    "\n",
    "#>>> func()\n",
    "#>>> print(X)\n",
    "#Ans:\n",
    "\n",
    "global X: Inside the func function, this line declares that the variable X being used within the function refers to the global variable X defined outside of the \n",
    "function. This means that any modifications to X within the function will affect the global variable. \n",
    "Hence, Global varaible value change to 'NI'. Output of above is 'NI'.\n"
   ]
  },
  {
   "cell_type": "code",
   "execution_count": 16,
   "id": "3aac6b05",
   "metadata": {},
   "outputs": [],
   "source": [
    "\n",
    "#5. What about this code—what’s the output, and why?\n",
    "\n",
    "#>>> X = 'iNeuron'\n",
    "#>>> def func():\n",
    "#X = 'NI'\n",
    "#def nested():\n",
    "#print(X)\n",
    "#nested()\n",
    "\n",
    "#>>> func()\n",
    "#>>> X\n",
    "\n",
    "#Ans:\n",
    "the nested() function will print 'iNeuron', Then func() does not display anything, and X ='NI' is local variable not accesible outside function. \n",
    "The output is iNeuron and 'iNeuron'\n"
   ]
  },
  {
   "cell_type": "code",
   "execution_count": null,
   "id": "f634dd61",
   "metadata": {},
   "outputs": [],
   "source": [
    "#6. How about this code: what is its output in Python 3, and explain?\n",
    "\n",
    "\n",
    "#>>> def func():\n",
    "#X = 'NI'\n",
    "#def nested():\n",
    "#nonlocal X\n",
    "#X = 'Spam'\n",
    "#nested()\n",
    "#print(X)\n",
    "\n",
    "#>>> func()\n",
    "\n",
    "#Ans:\n",
    "Nonlocal variables are used in nested functions whose local scope is not defined. This means that the variable can be neither in the local nor the global scope. \n",
    "it print the updated value from nested i.e Spam \n",
    "\n",
    "\n"
   ]
  },
  {
   "cell_type": "code",
   "execution_count": null,
   "id": "17a3f847",
   "metadata": {},
   "outputs": [],
   "source": []
  }
 ],
 "metadata": {
  "kernelspec": {
   "display_name": "Python 3 (ipykernel)",
   "language": "python",
   "name": "python3"
  },
  "language_info": {
   "codemirror_mode": {
    "name": "ipython",
    "version": 3
   },
   "file_extension": ".py",
   "mimetype": "text/x-python",
   "name": "python",
   "nbconvert_exporter": "python",
   "pygments_lexer": "ipython3",
   "version": "3.10.5"
  }
 },
 "nbformat": 4,
 "nbformat_minor": 5
}
