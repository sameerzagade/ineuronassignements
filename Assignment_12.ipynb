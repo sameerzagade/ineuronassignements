{
 "cells": [
  {
   "cell_type": "code",
   "execution_count": null,
   "id": "4b3a86a7",
   "metadata": {},
   "outputs": [],
   "source": [
    "1. In what modes should the PdfFileReader() and PdfFileWriter() File objects will be opened?\n",
    "\n",
    "Ans: \n",
    "PdfFileReader() file objects should open in read binary by passing 'rb'  \n",
    "PdfFileWriter() file objects should open in write-binary mode with 'wb'"
   ]
  },
  {
   "cell_type": "code",
   "execution_count": null,
   "id": "60ca8b54",
   "metadata": {},
   "outputs": [],
   "source": [
    "2. From a PdfFileReader object, how do you get a Page object for page 5?\n",
    "\n",
    "Ans: \n",
    "    getPage(4) will return a Page object for page 5\n",
    "    "
   ]
  },
  {
   "cell_type": "code",
   "execution_count": null,
   "id": "ea095c1d",
   "metadata": {},
   "outputs": [],
   "source": [
    "3. What PdfFileReader variable stores the number of pages in the PDF document?\n",
    "\n",
    "Ans:\n",
    "     The PdfFileReader class is used to read PDF files, and it has a method called getNumPages() that returns the number of pages in the PDF document."
   ]
  },
  {
   "cell_type": "code",
   "execution_count": null,
   "id": "0c15db09",
   "metadata": {},
   "outputs": [],
   "source": [
    "4. If a PdfFileReader object’s PDF is encrypted with the password swordfish, what must you do before you can obtain Page objects from it?\n",
    "\n",
    "Ans:Before you can obtain Page objects from a PdfFileReader object whose PDF is encrypted with a password (e.g., \"swordfish\"),\n",
    "    you need to decrypt the PDF by providing the password \"swordfish\". By calling object.decrypt('swordfish')\n"
   ]
  },
  {
   "cell_type": "code",
   "execution_count": null,
   "id": "c2ac0bd6",
   "metadata": {},
   "outputs": [],
   "source": [
    "5. What methods do you use to rotate a page?\n",
    "\n",
    "Ans:\n",
    "    To rotate a page in a PDF using the PyPDF2 library in Python, you can use the rotateClockwise() and rotateCounterClockwise() \n",
    "    methods provided by the Page object.\n"
   ]
  },
  {
   "cell_type": "code",
   "execution_count": null,
   "id": "b9f6f190",
   "metadata": {},
   "outputs": [],
   "source": [
    "6. What is the difference between a Run object and a Paragraph object?\n",
    "\n",
    "Ans:\n",
    "\n",
    "Paragraph Object :A paragraph is a block of text that is separated from other blocks of text by a line break or paragraph spacing. \n",
    "    It's the basic structural unit for organizing text content within a document. A paragraph can contain one or more runs, \n",
    "    and it often represents a logical grouping of related content.\n",
    "\n",
    "Run Objects : A run is a contiguous range of text within a paragraph that has the same character formatting (font, size, color, bold, italic, etc.). \n",
    "    It's the smallest unit of text that can be individually formatted. \n",
    "    A paragraph can contain multiple runs if different parts of the paragraph need different formatting.\n",
    "    \n"
   ]
  },
  {
   "cell_type": "code",
   "execution_count": null,
   "id": "3a6b51b5",
   "metadata": {},
   "outputs": [],
   "source": [
    "7. How do you obtain a list of Paragraph objects for a Document object that’s stored in a variable named doc?\n",
    "\n",
    "Ans:\n",
    "#!pip install python-docx\n",
    "import docx\n",
    "doc = docx.Document('abc.docx')\n",
    "doc.paragraphs\n",
    "#By using doc.paragraphs"
   ]
  },
  {
   "cell_type": "code",
   "execution_count": null,
   "id": "55b9d1a4",
   "metadata": {},
   "outputs": [],
   "source": [
    "8. What type of object has bold, underline, italic, strike, and outline variables?\n",
    "\n",
    "Ans:\n",
    "    A Run object has bold, underline,italic,strike and outline variables"
   ]
  },
  {
   "cell_type": "code",
   "execution_count": null,
   "id": "3fb1664f",
   "metadata": {},
   "outputs": [],
   "source": [
    "9. What is the difference between False, True, and None for the bold variable?\n",
    "\n",
    "Ans:\n",
    "False: When the bold attribute is set to False, it means that the text is not bold. In other words, the text is in regular (non-bold) font style.\n",
    "True: When the bold attribute is set to True, it means that the text is bold. The text will be displayed in a bold font style.\n",
    "None: The None value for the bold attribute often represents the default state or the absence of explicit formatting. \n",
    "It tells the library to use the default styling specified by the document's style settings. \n",
    "If no bold formatting is explicitly set (either True or False), the text will follow the default styling.\n"
   ]
  },
  {
   "cell_type": "code",
   "execution_count": null,
   "id": "1bba1f15",
   "metadata": {},
   "outputs": [],
   "source": [
    "10. How do you create a Document object for a new Word document?\n",
    "\n",
    "Ans:\n",
    "     By Calling the docx.Document() function."
   ]
  },
  {
   "cell_type": "code",
   "execution_count": null,
   "id": "4dd90e5f",
   "metadata": {},
   "outputs": [],
   "source": [
    "11. How do you add a paragraph with the text 'Hello, there!' to a Document object stored in a variable named doc?\n",
    "\n",
    "Ans:\n",
    "    \n",
    "import docx\n",
    "doc = docx.Document()\n",
    "\n",
    "doc.add_paragraph('Hello there!')\n",
    "doc.save('hellothere.docx')\n",
    "     "
   ]
  },
  {
   "cell_type": "code",
   "execution_count": null,
   "id": "20d4e483",
   "metadata": {},
   "outputs": [],
   "source": [
    "12. What integers represent the levels of headings available in Word documents?\n",
    "\n",
    "Ans:\n",
    "    The arguments to add_heading() are a string of the heading text and an integer from 0 to 4. The integer 0 makes the heading the Title style,\n",
    "    which is used for the top of the document. Integers 1 to 4 are for various heading levels, with 1 being the main heading and 4 the lowest subheading"
   ]
  }
 ],
 "metadata": {
  "kernelspec": {
   "display_name": "Python 3 (ipykernel)",
   "language": "python",
   "name": "python3"
  },
  "language_info": {
   "codemirror_mode": {
    "name": "ipython",
    "version": 3
   },
   "file_extension": ".py",
   "mimetype": "text/x-python",
   "name": "python",
   "nbconvert_exporter": "python",
   "pygments_lexer": "ipython3",
   "version": "3.10.5"
  }
 },
 "nbformat": 4,
 "nbformat_minor": 5
}
