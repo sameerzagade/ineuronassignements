{
 "cells": [
  {
   "cell_type": "code",
   "execution_count": null,
   "id": "c3ec590e-223d-4279-94a8-b9fa6b292748",
   "metadata": {},
   "outputs": [],
   "source": [
    "1. What does an empty dictionary's code look like?\n",
    "Ans: \n",
    "    {}\n"
   ]
  },
  {
   "cell_type": "code",
   "execution_count": null,
   "id": "94c107a6-c116-42d4-ab9a-dbcae8b2d39a",
   "metadata": {},
   "outputs": [],
   "source": [
    "2. What is the value of a dictionary value with the key 'foo' and the value 42?\n",
    "Ans:\n",
    "    {'foo': 42}"
   ]
  },
  {
   "cell_type": "code",
   "execution_count": null,
   "id": "8e867ce6-e954-4408-86da-269b26f038ba",
   "metadata": {},
   "outputs": [],
   "source": [
    "3. What is the most significant distinction between a dictionary and a list?\n",
    "Ans:\n",
    "    In dictionary The elements stored in dictinary in key value pair. Elements are not maintained in specific order.\n",
    "    In list the elements are stored index value pair. The elements are maintained in order as enetered\n"
   ]
  },
  {
   "cell_type": "code",
   "execution_count": null,
   "id": "6ae6a71c-09fa-492f-8e41-13d0b35f0919",
   "metadata": {},
   "outputs": [],
   "source": [
    "4. What happens if you try to access spam['foo'] if spam is {'bar': 100}?\n",
    "Ans: \n",
    "    Get a KeyError error message\n",
    "    \n"
   ]
  },
  {
   "cell_type": "code",
   "execution_count": null,
   "id": "a07df0f0-67de-4f76-a88a-3092ce072f36",
   "metadata": {},
   "outputs": [],
   "source": [
    "5. If a dictionary is stored in spam, what is the difference between the expressions 'cat' in spam and 'cat' in spam.keys()?\n",
    "Ans:\n",
    "    In both ways operator checks whether a value exists as a key in the dictionary."
   ]
  },
  {
   "cell_type": "code",
   "execution_count": null,
   "id": "16ace568-780a-4c16-af67-040c0aa52b9a",
   "metadata": {},
   "outputs": [],
   "source": [
    "6. If a dictionary is stored in spam, what is the difference between the expressions 'cat' in spam and 'cat' in spam.values()?\n",
    "Ans:\n",
    "    'cat' in spam checks whether there is a 'cat' key in the dictionary, while 'cat' in spam.values() checks \n",
    "    whether there is a value 'cat' for one of the keys in spam."
   ]
  },
  {
   "cell_type": "code",
   "execution_count": null,
   "id": "44f9117e-eec2-48d6-b16d-68a3cfeb0dc1",
   "metadata": {},
   "outputs": [],
   "source": [
    "7. What is a shortcut for the following code?\n",
    "if 'color' not in spam:\n",
    "spam['color'] = 'black'\n",
    "\n",
    "Ans:\n",
    "    spam.setdefault('color', 'black')"
   ]
  },
  {
   "cell_type": "code",
   "execution_count": 17,
   "id": "b029c992-b727-456c-aa04-11e6ebedf2fb",
   "metadata": {},
   "outputs": [
    {
     "ename": "SyntaxError",
     "evalue": "invalid syntax (2682656823.py, line 2)",
     "output_type": "error",
     "traceback": [
      "\u001b[0;36m  Cell \u001b[0;32mIn [17], line 2\u001b[0;36m\u001b[0m\n\u001b[0;31m    Ans:\u001b[0m\n\u001b[0m        ^\u001b[0m\n\u001b[0;31mSyntaxError\u001b[0m\u001b[0;31m:\u001b[0m invalid syntax\n"
     ]
    }
   ],
   "source": [
    "8. How do you \"pretty print\" dictionary values using which module and function?\n",
    "Ans:\n",
    "    import pprint\n",
    "    pprint.pprint()"
   ]
  }
 ],
 "metadata": {
  "kernelspec": {
   "display_name": "Python 3 (ipykernel)",
   "language": "python",
   "name": "python3"
  },
  "language_info": {
   "codemirror_mode": {
    "name": "ipython",
    "version": 3
   },
   "file_extension": ".py",
   "mimetype": "text/x-python",
   "name": "python",
   "nbconvert_exporter": "python",
   "pygments_lexer": "ipython3",
   "version": "3.10.6"
  }
 },
 "nbformat": 4,
 "nbformat_minor": 5
}
