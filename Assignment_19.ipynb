{
 "cells": [
  {
   "cell_type": "code",
   "execution_count": 12,
   "id": "40b0ac06",
   "metadata": {},
   "outputs": [
    {
     "name": "stdout",
     "output_type": "stream",
     "text": [
      "<class '__main__.Thing'>\n",
      "<__main__.Thing object at 0x000001E4547A1090>\n"
     ]
    }
   ],
   "source": [
    "#1. Make a class called Thing with no contents and print it. Then, create an object called example from this class and also print it. Are the printed values the same or different?\n",
    "#Ans: Printed values are different\n",
    "\n",
    "class Thing:\n",
    "     def __init__(self):\n",
    "            pass;\n",
    "\n",
    "print(Thing)        \n",
    "example=Thing()\n",
    "print(example)\n",
    "\n"
   ]
  },
  {
   "cell_type": "code",
   "execution_count": 16,
   "id": "f27f3788",
   "metadata": {},
   "outputs": [
    {
     "name": "stdout",
     "output_type": "stream",
     "text": [
      "abc\n"
     ]
    }
   ],
   "source": [
    "#2. Create a new class called Thing2 and add the value 'abc' to the letters class attribute. Letters should be printed.\n",
    "#Ans:\n",
    "\n",
    "class Thing2:\n",
    "    letters = 'abc'\n",
    "print(Thing2.letters)\n"
   ]
  },
  {
   "cell_type": "code",
   "execution_count": 27,
   "id": "32021e4d",
   "metadata": {},
   "outputs": [
    {
     "name": "stdout",
     "output_type": "stream",
     "text": [
      "xyz\n"
     ]
    }
   ],
   "source": [
    "#3. Make yet another class called, of course, Thing3. This time, assign the value 'xyz' to an instance (object) attribute called letters. Print letters. Do you need to make an object from the class to do this?\n",
    "#Ans: Yes. We need to make an object from the class to print letters.\n",
    "\n",
    "class Thing3:\n",
    "    def __init__(self):\n",
    "        self.letters = 'xyz'\n",
    "        \n",
    "obj = Thing3()\n",
    "print(obj.letters)"
   ]
  },
  {
   "cell_type": "code",
   "execution_count": 2,
   "id": "9f4c6cbd",
   "metadata": {},
   "outputs": [
    {
     "name": "stdout",
     "output_type": "stream",
     "text": [
      "Name: Hydrogen\n",
      "Symbol: H\n",
      "Number: 1\n"
     ]
    }
   ],
   "source": [
    "#4. Create an Element class with the instance attributes name, symbol, and number. Create a class object with the values 'Hydrogen,' 'H,' and 1.\n",
    "#Ans:\n",
    "\n",
    "class Element:\n",
    "    def __init__(self, name, symbol, number):\n",
    "        self.name= name\n",
    "        self.symbol = symbol\n",
    "        self.number = number\n",
    "\n",
    "        \n",
    "obj= Element('Hydrogen', 'H', 1)\n",
    "\n",
    "print('Name:', obj.name)\n",
    "print('Symbol:', obj.symbol)\n",
    "print('Number:', obj.number)\n"
   ]
  },
  {
   "cell_type": "code",
   "execution_count": 3,
   "id": "02498049",
   "metadata": {},
   "outputs": [
    {
     "name": "stdout",
     "output_type": "stream",
     "text": [
      "Name: Hydrogen\n",
      "Symbol: H\n",
      "Number: 1\n"
     ]
    }
   ],
   "source": [
    "#5. Make a dictionary with these keys and values: 'name': 'Hydrogen', 'symbol': 'H', 'number': 1. Then, create an object called hydrogen from class Element \n",
    "#using this dictionary.\n",
    "#Ans:\n",
    "class Element:\n",
    "    def __init__(self, name, symbol, number):\n",
    "        self.name = name\n",
    "        self.symbol = symbol\n",
    "        self.number = number\n",
    "\n",
    "hydrogen_dict = {\n",
    "    'name': 'Hydrogen',\n",
    "    'symbol': 'H',\n",
    "    'number': 1\n",
    "}\n",
    "\n",
    "\n",
    "hydrogen = Element(**hydrogen_dict)\n",
    "\n",
    "print('Name:', hydrogen.name)\n",
    "print('Symbol:', hydrogen.symbol)\n",
    "print('Number:', hydrogen.number)\n"
   ]
  },
  {
   "cell_type": "code",
   "execution_count": 4,
   "id": "28a8441c",
   "metadata": {},
   "outputs": [
    {
     "name": "stdout",
     "output_type": "stream",
     "text": [
      "Name: Hydrogen\n",
      "Symbol: H\n",
      "Number: 1\n"
     ]
    }
   ],
   "source": [
    "#6. For the Element class, define a method called dump() that prints the values of the object’s\n",
    "#attributes (name, symbol, and number). Create the hydrogen object from this new definition and\n",
    "#use dump() to print its attributes.\n",
    "\n",
    "#Ans:\n",
    "\n",
    "class Element:\n",
    "    def __init__(self, name, symbol, number):\n",
    "        self.name = name\n",
    "        self.symbol = symbol\n",
    "        self.number = number\n",
    "    \n",
    "    def dump(self):\n",
    "        print('Name:', self.name)\n",
    "        print('Symbol:', self.symbol)\n",
    "        print('Number:', self.number)\n",
    "\n",
    "hydrogen_dict = {\n",
    "    'name': 'Hydrogen',\n",
    "    'symbol': 'H',\n",
    "    'number': 1\n",
    "}\n",
    "hydrogen = Element(**hydrogen_dict)\n",
    "hydrogen.dump()"
   ]
  },
  {
   "cell_type": "code",
   "execution_count": null,
   "id": "20e5a85b",
   "metadata": {},
   "outputs": [],
   "source": [
    "#7. Call print(hydrogen). In the definition of Element, change the name of method dump to __str__,\n",
    "#create a new hydrogen object, and call print(hydrogen) again.\n",
    "\n",
    "#Ans:\n",
    "print(hydrogen)"
   ]
  },
  {
   "cell_type": "code",
   "execution_count": 6,
   "id": "16afc035",
   "metadata": {},
   "outputs": [
    {
     "name": "stdout",
     "output_type": "stream",
     "text": [
      "Name: Hydrogen\n",
      "Symbol: H\n",
      "Number: 1\n"
     ]
    }
   ],
   "source": [
    "class Element:\n",
    "    def __init__(self, name, symbol, number):\n",
    "        self.name = name\n",
    "        self.symbol = symbol\n",
    "        self.number = number\n",
    "    \n",
    "    def __str__(self):\n",
    "        return f\"Name: {self.name}\\nSymbol: {self.symbol}\\nNumber: {self.number}\"\n",
    "\n",
    "hydrogen_dict = {\n",
    "    'name': 'Hydrogen',\n",
    "    'symbol': 'H',\n",
    "    'number': 1\n",
    "}\n",
    "hydrogen = Element(**hydrogen_dict)\n",
    "print(hydrogen)\n"
   ]
  },
  {
   "cell_type": "code",
   "execution_count": 7,
   "id": "1e4f0229",
   "metadata": {},
   "outputs": [
    {
     "name": "stdout",
     "output_type": "stream",
     "text": [
      "Using getter properties:\n",
      "Name: Hydrogen\n",
      "Symbol: H\n",
      "Number: 1\n",
      "\n",
      "Using print():\n",
      "Name: Hydrogen\n",
      "Symbol: H\n",
      "Number: 1\n"
     ]
    }
   ],
   "source": [
    "#8. Modify Element to make the attributes name, symbol, and number private. Define a getter property for each to return its value.\n",
    "\n",
    "#Ans:\n",
    "\n",
    "class Element:\n",
    "    def __init__(self, name, symbol, number):\n",
    "        self.__name = name\n",
    "        self.__symbol = symbol\n",
    "        self.__number = number\n",
    "    \n",
    "    @property\n",
    "    def name(self):\n",
    "        return self.__name\n",
    "    \n",
    "    @property\n",
    "    def symbol(self):\n",
    "        return self.__symbol\n",
    "    \n",
    "    @property\n",
    "    def number(self):\n",
    "        return self.__number\n",
    "    \n",
    "    def __str__(self):\n",
    "        return f\"Name: {self.__name}\\nSymbol: {self.__symbol}\\nNumber: {self.__number}\"\n",
    "\n",
    "hydrogen_dict = {\n",
    "    'name': 'Hydrogen',\n",
    "    'symbol': 'H',\n",
    "    'number': 1\n",
    "}\n",
    "hydrogen = Element(**hydrogen_dict)\n",
    "\n",
    "print(\"Using getter properties:\")\n",
    "print(\"Name:\", hydrogen.name)\n",
    "print(\"Symbol:\", hydrogen.symbol)\n",
    "print(\"Number:\", hydrogen.number)\n",
    "\n",
    "print(\"\\nUsing print():\")\n",
    "print(hydrogen)\n"
   ]
  },
  {
   "cell_type": "code",
   "execution_count": 8,
   "id": "88bc898f",
   "metadata": {},
   "outputs": [
    {
     "name": "stdout",
     "output_type": "stream",
     "text": [
      "Bear eats: berries\n",
      "Rabbit eats: clover\n",
      "Octothorpe eats: campers\n"
     ]
    }
   ],
   "source": [
    "#9. Define three classes: Bear, Rabbit, and Octothorpe. For each, define only one method: eats(). This\n",
    "#should return 'berries' (Bear), 'clover&#39' (Rabbit), or 'campers' (Octothorpe). Create one object from each and print what it eats.\n",
    "\n",
    "#Ans:\n",
    "    \n",
    "class Bear:\n",
    "    def eats(self):\n",
    "        return 'berries'\n",
    "\n",
    "class Rabbit:\n",
    "    def eats(self):\n",
    "        return 'clover'\n",
    "\n",
    "class Octothorpe:\n",
    "    def eats(self):\n",
    "        return 'campers'\n",
    "\n",
    "# Creating objects from each class\n",
    "bear = Bear()\n",
    "rabbit = Rabbit()\n",
    "octothorpe = Octothorpe()\n",
    "\n",
    "# Printing what each object eats\n",
    "print(f\"Bear eats: {bear.eats()}\")\n",
    "print(f\"Rabbit eats: {rabbit.eats()}\")\n",
    "print(f\"Octothorpe eats: {octothorpe.eats()}\")\n"
   ]
  },
  {
   "cell_type": "code",
   "execution_count": 11,
   "id": "104dded0",
   "metadata": {},
   "outputs": [
    {
     "name": "stdout",
     "output_type": "stream",
     "text": [
      "Laser: disintegrate, Claw: crush, Smartphone: ring\n"
     ]
    }
   ],
   "source": [
    "#10. Define these classes: Laser, Claw, and SmartPhone. Each has only one method: does(). This returns 'disintegrate' (Laser), 'crush' (Claw), or 'ring' (SmartPhone). T\n",
    "#Then, define the class Robot that has one instance (object) of each of these. Define a does() method for the Robot that prints what its component objects do.\n",
    "\n",
    "#Ans:\n",
    "class Laser:\n",
    "    def does(self):\n",
    "        return 'disintegrate'\n",
    "class Claw:\n",
    "    def does(self):\n",
    "        return 'crush'\n",
    "class SmartPhone:\n",
    "    def does(self):\n",
    "        return 'ring'\n",
    "\n",
    "class Robot:\n",
    "    def __init__(self):\n",
    "        self.laser = Laser()\n",
    "        self.claw = Claw()\n",
    "        self.smartphone = SmartPhone()\n",
    "    \n",
    "    def does(self):\n",
    "        laser_action = self.laser.does()\n",
    "        claw_action = self.claw.does()\n",
    "        smartphone_action = self.smartphone.does()\n",
    "        \n",
    "        return f\"Laser: {laser_action}, Claw: {claw_action}, Smartphone: {smartphone_action}\"\n",
    "\n",
    "robot = Robot()\n",
    "print(robot.does())\n",
    "   "
   ]
  },
  {
   "cell_type": "code",
   "execution_count": null,
   "id": "f1c2e0e7",
   "metadata": {},
   "outputs": [],
   "source": []
  }
 ],
 "metadata": {
  "kernelspec": {
   "display_name": "Python 3 (ipykernel)",
   "language": "python",
   "name": "python3"
  },
  "language_info": {
   "codemirror_mode": {
    "name": "ipython",
    "version": 3
   },
   "file_extension": ".py",
   "mimetype": "text/x-python",
   "name": "python",
   "nbconvert_exporter": "python",
   "pygments_lexer": "ipython3",
   "version": "3.10.5"
  }
 },
 "nbformat": 4,
 "nbformat_minor": 5
}
