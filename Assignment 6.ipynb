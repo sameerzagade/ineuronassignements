{
 "cells": [
  {
   "cell_type": "code",
   "execution_count": null,
   "id": "f0637249",
   "metadata": {},
   "outputs": [],
   "source": [
    "1. What are escape characters, and how do you use them?\n",
    "Ans:\n",
    "    escape character is used to insert characters that are illegal in a string. for example double quotes or single quotes \n",
    "    An escape character is a backslash \\ followed by the character you want to insert.\n",
    "    An example of an illegal character is a double quote inside a string that is surrounded by double quotes.\n"
   ]
  },
  {
   "cell_type": "code",
   "execution_count": null,
   "id": "e906e86a",
   "metadata": {},
   "outputs": [],
   "source": [
    "2. What do the escape characters n and t stand for?\n",
    "Ans: \n",
    "    \\n stands for newline\n",
    "    \\t stands for inserting tab\n",
    "    \n"
   ]
  },
  {
   "cell_type": "code",
   "execution_count": null,
   "id": "645270ad",
   "metadata": {},
   "outputs": [],
   "source": [
    "3. What is the way to include backslash characters in a string?\n",
    "Ans: \n",
    "    We should add another backslash to add backslash in a string i.e \\\\\n"
   ]
  },
  {
   "cell_type": "code",
   "execution_count": null,
   "id": "89bdf59c",
   "metadata": {},
   "outputs": [],
   "source": [
    "4. The string \"Howl's Moving Castle\" is a correct value. \n",
    "Why isn't the single quote character in the word Howl's not escaped a problem?\n",
    "Ans: \n",
    "    As the string is surrounded by double quotes, hence, single quote allowed in the string\n",
    "    \n"
   ]
  },
  {
   "cell_type": "code",
   "execution_count": null,
   "id": "2bf06e39",
   "metadata": {},
   "outputs": [],
   "source": [
    "5. How do you write a string of newlines if you don't want to use the n character?\n",
    "Ans:\n",
    "     With the help of Three single or double quotes surrounding the multiline string will help to write string in newline.\n"
   ]
  },
  {
   "cell_type": "code",
   "execution_count": null,
   "id": "8f173ed8",
   "metadata": {},
   "outputs": [],
   "source": [
    "6. What are the values of the given expressions?\n",
    "'Hello, world!'[1]\n",
    "'Hello, world!'[0:5]\n",
    "'Hello, world!'[:5]\n",
    "'Hello, world!'[3:]\n",
    "\n",
    "Ans:\n",
    "'Hello, world!'[1] output is 'e;\n",
    "'Hello, world!'[0:5] output is 'Hello'\n",
    "'Hello, world!'[:5] output is 'Hello'\n",
    "'Hello, world!'[3:] output is 'lo, world!'\n"
   ]
  },
  {
   "cell_type": "code",
   "execution_count": null,
   "id": "c2138511",
   "metadata": {},
   "outputs": [],
   "source": [
    "7. What are the values of the following expressions?\n",
    "'Hello'.upper()\n",
    "'Hello'.upper().isupper()\n",
    "'Hello'.upper().lower()\n",
    "Ans:\n",
    "'Hello'.upper() output is 'HELLO'\n",
    "'Hello'.upper().isupper() output is True\n",
    "'Hello'.upper().lower() output is 'hello'\n"
   ]
  },
  {
   "cell_type": "code",
   "execution_count": null,
   "id": "24a37bd4",
   "metadata": {},
   "outputs": [],
   "source": [
    "8. What are the values of the following expressions?\n",
    "'Remember, remember, the fifth of July.'.split()\n",
    "'-'.join('There can only one.'.split())\n",
    "\n",
    "Ans: Value of expression is    \n",
    "    'There-can-only-one'"
   ]
  },
  {
   "cell_type": "code",
   "execution_count": null,
   "id": "f99d0ecb",
   "metadata": {},
   "outputs": [],
   "source": [
    "9. What are the methods for right-justifying, left-justifying, and centering a string?\n",
    "Ans:\n",
    "    For right justifying rjust() is a function\n",
    "    For left justifying ljust() is a function \n",
    "    For center justifying center() is a function\n"
   ]
  },
  {
   "cell_type": "code",
   "execution_count": null,
   "id": "681ed777",
   "metadata": {},
   "outputs": [],
   "source": [
    "10. What is the best way to remove whitespace characters from the start or end?\n",
    "Ans:\n",
    "    The lstrip() and rstrip() methods remove whitespace from the left and right ends of a string, respectively"
   ]
  }
 ],
 "metadata": {
  "kernelspec": {
   "display_name": "Python 3 (ipykernel)",
   "language": "python",
   "name": "python3"
  },
  "language_info": {
   "codemirror_mode": {
    "name": "ipython",
    "version": 3
   },
   "file_extension": ".py",
   "mimetype": "text/x-python",
   "name": "python",
   "nbconvert_exporter": "python",
   "pygments_lexer": "ipython3",
   "version": "3.10.5"
  }
 },
 "nbformat": 4,
 "nbformat_minor": 5
}
