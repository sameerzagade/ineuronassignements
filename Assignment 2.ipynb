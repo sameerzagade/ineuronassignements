{
 "cells": [
  {
   "cell_type": "code",
   "execution_count": null,
   "id": "ddc73ee8",
   "metadata": {},
   "outputs": [],
   "source": [
    "1.What are the two values of the Boolean data type? How do you write them?\n",
    "\n",
    "Ans: true and false are two values of boolean data type and its written in below manner:\n",
    "    \n",
    "    True and False"
   ]
  },
  {
   "cell_type": "code",
   "execution_count": null,
   "id": "6e6f94c5",
   "metadata": {},
   "outputs": [],
   "source": [
    "2. What are the three different types of Boolean operators?\n",
    "\n",
    "Ans: \n",
    "    and, or, not are the three different types of boolean operators\n",
    "\n",
    "    "
   ]
  },
  {
   "cell_type": "code",
   "execution_count": null,
   "id": "66863ed4",
   "metadata": {},
   "outputs": [],
   "source": [
    "3. Make a list of each Boolean operator&#39;s truth tables (i.e. every possible combination of Boolean\n",
    "values for the operator and what it evaluate ).\n",
    "\n",
    "Ans:\n",
    "\n",
    "And \n",
    "False and False is False\n",
    "False and True is False\n",
    "True and False is False\n",
    "True and True is True\n",
    "\n",
    "Or\n",
    "False or False is False\n",
    "False or True is True\n",
    "True or False is True\n",
    "True or True is True\n",
    "\n",
    "not True is False\n",
    "not False is True\n",
    "\n"
   ]
  },
  {
   "cell_type": "code",
   "execution_count": null,
   "id": "3d19e877",
   "metadata": {},
   "outputs": [],
   "source": [
    "4. What are the values of the following expressions?\n",
    "\n",
    "Ans:\n",
    "    \n",
    "(5 > 4) and (3 == 5)                   value is False\n",
    "not (5 > 4)                            value is False\n",
    "(5 >4) or (3 == 5)                     value is True\n",
    "not ((5 >4) or (3 == 5)                value is False\n",
    "(True and True) and (True == False)    value is False\n",
    "(not False) or (not True)              value is True\n",
    "\n"
   ]
  },
  {
   "cell_type": "code",
   "execution_count": null,
   "id": "6affe746",
   "metadata": {},
   "outputs": [],
   "source": [
    "5. What are the six comparison operators?\n",
    "\n",
    "Ans:\n",
    "==\n",
    "<\n",
    ">\n",
    "<=\n",
    ">=\n",
    "!=\n"
   ]
  },
  {
   "cell_type": "code",
   "execution_count": null,
   "id": "70a3365e",
   "metadata": {},
   "outputs": [],
   "source": [
    "6. How do you tell the difference between the equal to and assignment operators?Describe a\n",
    "condition and when you would use one.\n",
    "\n",
    "Ans:\n",
    "\n",
    "= assignment operator is used to assign a value to variable\n",
    "== equal to operator that compares two values and evaluates to Boolean \n",
    "\n"
   ]
  },
  {
   "cell_type": "code",
   "execution_count": null,
   "id": "4e42fde5",
   "metadata": {},
   "outputs": [],
   "source": [
    "7. Identify the three blocks in this code:\n",
    "    \n",
    "spam = 0\n",
    "if spam == 10:\n",
    "print(‘eggs’)\n",
    "if spam >5:\n",
    "print(‘bacon’)\n",
    "else:\n",
    "print(‘ham’)\n",
    "print(‘spam’)\n",
    "print(‘spam’)\n",
    "   \n",
    "Ans:\n",
    "    \n",
    "The three blocks are everything inside the if statement and the lines print('bacon') and print('ham').\n",
    "\n",
    "\n",
    "print('eggs')\n",
    "if spam > 5:\n",
    "    print('bacon')\n",
    "else:\n",
    "    print('ham')\n",
    "print('spam')\n"
   ]
  },
  {
   "cell_type": "code",
   "execution_count": null,
   "id": "9a6e7bcc",
   "metadata": {},
   "outputs": [],
   "source": [
    "8. Write code that prints Hello if 1 is stored in spam, prints Howdy if 2 is stored in spam, and prints\n",
    "Greetings! if anything else is stored in spam.\n",
    "\n",
    "Ans:\n",
    "\n",
    "spam = input()\n",
    "if spam == '1':\n",
    "    print(\"Hello\")\n",
    "elif spam == '2':\n",
    "    print (\"Howdy\")\n",
    "else:\n",
    "    print(\"Greetings!\")\n"
   ]
  },
  {
   "cell_type": "code",
   "execution_count": null,
   "id": "e924b488",
   "metadata": {},
   "outputs": [],
   "source": [
    "9.If your programme is stuck in an endless loop, what keys you’ll press?\n",
    "\n",
    "Ans:\n",
    "    \n",
    "    ctlr + c to stop program\n"
   ]
  },
  {
   "cell_type": "code",
   "execution_count": null,
   "id": "79da312f",
   "metadata": {},
   "outputs": [],
   "source": [
    "10. How can you tell the difference between break and continue?\n",
    "\n",
    "Ans:\n",
    "The break statement will move the execution outside and just after a loop. \n",
    "The continue statement will move the execution to the start of the loop.\n",
    "\n"
   ]
  },
  {
   "cell_type": "code",
   "execution_count": null,
   "id": "9caa7db3",
   "metadata": {},
   "outputs": [],
   "source": [
    "11. In a for loop, what is the difference between range(10), range(0, 10), and range(0, 10, 1)?\n",
    "\n",
    "Ans:\n",
    "    \n",
    "    There is no difference in execution of the for loop. It justThey all do the same thing. The range(10) call ranges \n",
    "    from 0 up to (but not including) 10, range(0, 10) explicitly tells the loop to start at 0, \n",
    "    and range(0, 10, 1) explicitly tells the loop to increase the variable by 1 on each iteration.\n",
    "    \n"
   ]
  },
  {
   "cell_type": "code",
   "execution_count": null,
   "id": "b8db4e5b",
   "metadata": {},
   "outputs": [],
   "source": [
    "12. Write a short program that prints the numbers 1 to 10 using a for loop. Then write an equivalent\n",
    "program that prints the numbers 1 to 10 using a while loop.\n",
    "\n",
    "Ans: \n",
    "    for loop\n",
    "for i in range(1,11):\n",
    "    print (i)\n",
    "-----------------------------------------------------------------------------------------------------------------------------\n",
    "while loop\n",
    "\n",
    "i=1\n",
    "while i <= 10:\n",
    "    print (i)\n",
    "    i = i + 1 \n",
    "\n"
   ]
  },
  {
   "cell_type": "code",
   "execution_count": null,
   "id": "6150fa05",
   "metadata": {},
   "outputs": [],
   "source": [
    "13. If you had a function named bacon() inside a module named spam, how would you call it after importing spam?\n",
    "\n",
    "Ans:\n",
    "    We can call it as per following:\n",
    "    \n",
    "spam.bacon()\n"
   ]
  }
 ],
 "metadata": {
  "kernelspec": {
   "display_name": "Python 3 (ipykernel)",
   "language": "python",
   "name": "python3"
  },
  "language_info": {
   "codemirror_mode": {
    "name": "ipython",
    "version": 3
   },
   "file_extension": ".py",
   "mimetype": "text/x-python",
   "name": "python",
   "nbconvert_exporter": "python",
   "pygments_lexer": "ipython3",
   "version": "3.10.5"
  }
 },
 "nbformat": 4,
 "nbformat_minor": 5
}
