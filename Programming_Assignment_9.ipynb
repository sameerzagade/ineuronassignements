{
 "cells": [
  {
   "cell_type": "code",
   "execution_count": null,
   "id": "f0107b35",
   "metadata": {},
   "outputs": [],
   "source": [
    "1.\tWrite a Python program to check if the given number is a Disarium Number?"
   ]
  },
  {
   "cell_type": "code",
   "execution_count": null,
   "id": "da376350",
   "metadata": {},
   "outputs": [],
   "source": [
    "def is_disarium_number(num_str):\n",
    "    total = 0\n",
    "    for position, digit in enumerate(num_str, start=1):\n",
    "        power = int(digit) ** position\n",
    "        total += power\n",
    "    return total == int(num_str)\n",
    "\n",
    "def main():\n",
    "    num = input('Please enter a number: ')\n",
    "    if num.isdigit():\n",
    "        if is_disarium_number(num):\n",
    "            print(f'{num} is a Disarium Number')\n",
    "        else:\n",
    "            print(f'{num} is not a Disarium Number')\n",
    "    else:\n",
    "        print('Please enter a valid positive integer.')\n",
    "\n",
    "if __name__ == \"__main__\":\n",
    "    main()\n"
   ]
  },
  {
   "cell_type": "code",
   "execution_count": null,
   "id": "e17dd9c8",
   "metadata": {},
   "outputs": [],
   "source": [
    "2.\tWrite a Python program to print all disarium numbers between 1 to 100?"
   ]
  },
  {
   "cell_type": "code",
   "execution_count": null,
   "id": "256d1d5b",
   "metadata": {},
   "outputs": [],
   "source": [
    "def is_disarium_number(num):\n",
    "    num_str = str(num)\n",
    "    total = 0\n",
    "    for position, digit in enumerate(num_str, start=1):\n",
    "        power = int(digit) ** position\n",
    "        total += power\n",
    "    return total == num\n",
    "\n",
    "def find_disarium_numbers(start, end):\n",
    "    disarium_numbers = []\n",
    "    for num in range(start, end + 1):\n",
    "        if is_disarium_number(num):\n",
    "            disarium_numbers.append(num)\n",
    "    return disarium_numbers\n",
    "\n",
    "def main():\n",
    "    start = 1\n",
    "    end = 100\n",
    "    disarium_numbers = find_disarium_numbers(start, end)\n",
    "    \n",
    "    print(f\"Disarium numbers between {start} and {end}:\")\n",
    "    for num in disarium_numbers:\n",
    "        print(num, end=\" \")\n",
    "\n",
    "if __name__ == \"__main__\":\n",
    "    main()"
   ]
  },
  {
   "cell_type": "code",
   "execution_count": null,
   "id": "3924b62d",
   "metadata": {},
   "outputs": [],
   "source": [
    "3.\tWrite a Python program to check if the given number is Happy Number?"
   ]
  },
  {
   "cell_type": "code",
   "execution_count": null,
   "id": "b85baa5b",
   "metadata": {},
   "outputs": [],
   "source": [
    "def is_happy_number(n):\n",
    "    seen = set()\n",
    "    \n",
    "    while n != 1 and n not in seen:\n",
    "        seen.add(n)\n",
    "        n = sum(int(digit) ** 2 for digit in str(n))\n",
    "    \n",
    "    return n == 1\n",
    "\n",
    "def main():\n",
    "    num = int(input(\"Enter a number: \"))\n",
    "    \n",
    "    if is_happy_number(num):\n",
    "        print(num, \"is a Happy Number!\")\n",
    "    else:\n",
    "        print(num, \"is not a Happy Number.\")\n",
    "\n",
    "if __name__ == \"__main__\":\n",
    "    main()"
   ]
  },
  {
   "cell_type": "code",
   "execution_count": null,
   "id": "ee52fbb1",
   "metadata": {},
   "outputs": [],
   "source": [
    "4.\tWrite a Python program to print all happy numbers between 1 and 100?"
   ]
  },
  {
   "cell_type": "code",
   "execution_count": null,
   "id": "63be3574",
   "metadata": {},
   "outputs": [],
   "source": [
    "def is_happy_number(n):\n",
    "    seen = set()\n",
    "    \n",
    "    while n != 1 and n not in seen:\n",
    "        seen.add(n)\n",
    "        n = sum(int(digit) ** 2 for digit in str(n))\n",
    "    return n == 1\n",
    "\n",
    "def find_happy_numbers(start, end):\n",
    "    happy_numbers = []\n",
    "    for num in range(start, end + 1):\n",
    "        if is_happy_number(num):\n",
    "            happy_numbers.append(num)\n",
    "    return happy_numbers\n",
    "\n",
    "def main():\n",
    "    start = 1\n",
    "    end = 100\n",
    "    happy_numbers = find_happy_numbers(start, end)\n",
    "    \n",
    "    print(f\"Happy numbers between {start} and {end}:\")\n",
    "    for num in happy_numbers:\n",
    "        print(num, end=\" \")\n",
    "\n",
    "if __name__ == \"__main__\":\n",
    "    main()"
   ]
  },
  {
   "cell_type": "code",
   "execution_count": null,
   "id": "27d6be6f",
   "metadata": {},
   "outputs": [],
   "source": [
    "5.\tWrite a Python program to determine whether the given number is a Harshad Number?"
   ]
  },
  {
   "cell_type": "code",
   "execution_count": null,
   "id": "3bb37390",
   "metadata": {},
   "outputs": [],
   "source": [
    "def is_harshad_number(num_str):\n",
    "    total = 0\n",
    "    for position, digit in enumerate(num_str, start=1):\n",
    "        total += int(digit)\n",
    "        remainder= int(num_str)%total\n",
    "    return remainder == 0\n",
    "\n",
    "def main():\n",
    "    num = input('Please enter a number: ')\n",
    "    if num.isdigit():\n",
    "        if is_harshad_number(num):\n",
    "            print(f'{num} is a Harshad Number')\n",
    "        else:\n",
    "            print(f'{num} is not a Harshad Number')\n",
    "    else:\n",
    "        print('Please enter a valid positive integer.')\n",
    "\n",
    "if __name__ == \"__main__\":\n",
    "    main()\n"
   ]
  },
  {
   "cell_type": "code",
   "execution_count": null,
   "id": "cf6b4695",
   "metadata": {},
   "outputs": [],
   "source": [
    "6.\tWrite a Python program to print all pronic numbers between 1 and 100?"
   ]
  },
  {
   "cell_type": "code",
   "execution_count": 5,
   "id": "207d5d48",
   "metadata": {},
   "outputs": [
    {
     "name": "stdout",
     "output_type": "stream",
     "text": [
      "Pronic numbers between 1 and 100: \n",
      "2 6 12 20 30 42 56 72 90 "
     ]
    }
   ],
   "source": [
    "def is_Pronic_Number(num):    \n",
    "    flag = False;    \n",
    "    for j in range(1, num+1):\n",
    "        if((j*(j+1)) == num):\n",
    "            flag = True\n",
    "            break    \n",
    "    return flag;    \n",
    "     \n",
    "def main():\n",
    "    print(\"Pronic numbers between 1 and 100: \")    \n",
    "    for i in range(1, 101):    \n",
    "        if(is_Pronic_Number(i)):    \n",
    "            print(i, end=\" \") \n",
    "\n",
    "if __name__ == \"__main__\":\n",
    "    main()\n"
   ]
  }
 ],
 "metadata": {
  "kernelspec": {
   "display_name": "Python 3 (ipykernel)",
   "language": "python",
   "name": "python3"
  },
  "language_info": {
   "codemirror_mode": {
    "name": "ipython",
    "version": 3
   },
   "file_extension": ".py",
   "mimetype": "text/x-python",
   "name": "python",
   "nbconvert_exporter": "python",
   "pygments_lexer": "ipython3",
   "version": "3.10.5"
  }
 },
 "nbformat": 4,
 "nbformat_minor": 5
}
