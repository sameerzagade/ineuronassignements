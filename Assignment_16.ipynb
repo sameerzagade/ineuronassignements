{
 "cells": [
  {
   "cell_type": "code",
   "execution_count": 7,
   "id": "da3645df",
   "metadata": {},
   "outputs": [],
   "source": [
    "#1. Create a list called years_list, starting with the year of your birth, and each year thereafter until the year of your fifth birthday. For example, if you were born in 1980. the list would be years_list = [1980, 1981, 1982, 1983, 1984, 1985]\n",
    "\n",
    "# Ans:\n",
    "\n",
    "years_list = [1985,1986,1987,1988,1989,1990]\n"
   ]
  },
  {
   "cell_type": "code",
   "execution_count": 3,
   "id": "24810840",
   "metadata": {},
   "outputs": [
    {
     "data": {
      "text/plain": [
       "1988"
      ]
     },
     "execution_count": 3,
     "metadata": {},
     "output_type": "execute_result"
    }
   ],
   "source": [
    "# 2. In which year in years_list was your third birthday? Remember, you were 0 years of age for your first year.\n",
    "\n",
    "# Ans:\n",
    "\n",
    "years_list[3]"
   ]
  },
  {
   "cell_type": "code",
   "execution_count": 10,
   "id": "6d431325",
   "metadata": {},
   "outputs": [
    {
     "data": {
      "text/plain": [
       "1990"
      ]
     },
     "execution_count": 10,
     "metadata": {},
     "output_type": "execute_result"
    }
   ],
   "source": [
    "# 3.In the years list, which year were you the oldest?\n",
    "\n",
    "#Ans:\n",
    "\n",
    "max(years_list)"
   ]
  },
  {
   "cell_type": "code",
   "execution_count": 11,
   "id": "16312c05",
   "metadata": {},
   "outputs": [],
   "source": [
    "# 4. Make a list called things with these three strings as elements: \"mozzarella\", \"cinderella\", \"salmonella\".\n",
    "\n",
    "#Ans:\n",
    "\n",
    "things=[\"mozzarella\", \"cinderella\", \"salmonella\"]"
   ]
  },
  {
   "cell_type": "code",
   "execution_count": 27,
   "id": "2a50dcea",
   "metadata": {},
   "outputs": [
    {
     "name": "stdout",
     "output_type": "stream",
     "text": [
      "Cinderella\n",
      "['mozzarella', 'cinderella', 'salmonella']\n"
     ]
    }
   ],
   "source": [
    "#5. Capitalize the element in things that refers to a person and then print the list. Did it change the element in the list?\n",
    "\n",
    "#Ans:\n",
    "# It doesn't change the element in the list \n",
    "\n",
    "print(things[1].capitalize())\n",
    "print(things)"
   ]
  },
  {
   "cell_type": "code",
   "execution_count": 45,
   "id": "0ce805bb",
   "metadata": {},
   "outputs": [],
   "source": [
    "#6. Make a surprise list with the elements \"Groucho,\" \"Chico,\" and \"Harpo.\"\n",
    "\n",
    "#Ans:\n",
    "\n",
    "surprise = [\"Groucho,\" \"Chico,\", \"Harpo.\"]"
   ]
  },
  {
   "cell_type": "code",
   "execution_count": 59,
   "id": "31472519",
   "metadata": {},
   "outputs": [
    {
     "name": "stdout",
     "output_type": "stream",
     "text": [
      "harpo.\n",
      ".oprah\n",
      ".oprah\n"
     ]
    }
   ],
   "source": [
    "#7. Lowercase the last element of the surprise list, reverse it, and then capitalize it.\n",
    "\n",
    "#Ans:\n",
    "\n",
    "last_ele = (surprise[-1].lower())\n",
    "print(last_ele)\n",
    "reverse_last_ele=last_ele[::-1]\n",
    "print(reverse_last_ele)\n",
    "capitalised_reverse_last_ele = reverse_last_ele.capitalize()\n",
    "print(capitalised_reverse_last_ele)"
   ]
  },
  {
   "cell_type": "code",
   "execution_count": 67,
   "id": "284e07ee",
   "metadata": {},
   "outputs": [
    {
     "name": "stdout",
     "output_type": "stream",
     "text": [
      "{'dog': 'chien', 'cat': 'chat', 'walrus': 'morse'}\n"
     ]
    }
   ],
   "source": [
    "#8. Make an English-to-French dictionary called e2f and print it. Here are your starter words: dog is chien, cat is chat, and walrus is morse.\n",
    "\n",
    "#Ans:\n",
    "\n",
    "e2f = {\"dog\" : \"chien\", \"cat\" : \"chat\", \"walrus\" : \"morse\"}\n",
    "\n",
    "print(e2f)"
   ]
  },
  {
   "cell_type": "code",
   "execution_count": 64,
   "id": "bb38c5f9",
   "metadata": {},
   "outputs": [
    {
     "data": {
      "text/plain": [
       "'morse'"
      ]
     },
     "execution_count": 64,
     "metadata": {},
     "output_type": "execute_result"
    }
   ],
   "source": [
    "#9. Write the French word for walrus in your three-word dictionary e2f.\n",
    "\n",
    "#Ans:\n",
    "\n",
    "e2f['walrus']"
   ]
  },
  {
   "cell_type": "code",
   "execution_count": 77,
   "id": "9f13b69b",
   "metadata": {},
   "outputs": [
    {
     "data": {
      "text/plain": [
       "{'chien': 'dog', 'chat': 'cat', 'morse': 'walrus'}"
      ]
     },
     "execution_count": 77,
     "metadata": {},
     "output_type": "execute_result"
    }
   ],
   "source": [
    "#10. Make a French-to-English dictionary called f2e from e2f. Use the items method.\n",
    "\n",
    "#Ans:\n",
    "f2e = dict((key,value) for value,key in e2f.items())\n",
    "f2e\n"
   ]
  },
  {
   "cell_type": "code",
   "execution_count": 78,
   "id": "0618d5c0",
   "metadata": {},
   "outputs": [
    {
     "data": {
      "text/plain": [
       "'dog'"
      ]
     },
     "execution_count": 78,
     "metadata": {},
     "output_type": "execute_result"
    }
   ],
   "source": [
    "#11. Print the English version of the French word chien using f2e.\n",
    "\n",
    "#Ans:\n",
    "\n",
    "f2e['chien']"
   ]
  },
  {
   "cell_type": "code",
   "execution_count": 82,
   "id": "9af22031",
   "metadata": {},
   "outputs": [
    {
     "data": {
      "text/plain": [
       "dict_keys(['dog', 'cat', 'walrus'])"
      ]
     },
     "execution_count": 82,
     "metadata": {},
     "output_type": "execute_result"
    }
   ],
   "source": [
    "#12. Make and print a set of English words from the keys in e2f.\n",
    "\n",
    "#Ans:\n",
    "\n",
    "e2f.keys()"
   ]
  },
  {
   "cell_type": "code",
   "execution_count": 98,
   "id": "9d21e989",
   "metadata": {},
   "outputs": [],
   "source": [
    "#13. Make a multilevel dictionary called life. Use these strings for the topmost keys: 'animals', 'plants', and 'other'. Make the 'animals' key refer to another dictionary with the keys 'cats', 'octopi', and 'emus'. Make the 'cats' key refer to a list of strings with the values 'Henri', 'Grumpy', and 'Lucy'. Make all the other keys refer to empty dictionaries.\n",
    "\n",
    "#Ans:\n",
    "\n",
    "life ={ 'animals':{'cats': ['Henri', 'Grumpy', 'Lucy'], 'octopi':'', 'emus':''}, 'plants':'' , 'other':''}"
   ]
  },
  {
   "cell_type": "code",
   "execution_count": 99,
   "id": "173160c3",
   "metadata": {},
   "outputs": [
    {
     "data": {
      "text/plain": [
       "dict_keys(['animals', 'plants', 'other'])"
      ]
     },
     "execution_count": 99,
     "metadata": {},
     "output_type": "execute_result"
    }
   ],
   "source": [
    "#14. Print the top-level keys of life.\n",
    "\n",
    "#Ans:\n",
    "\n",
    "life.keys()"
   ]
  },
  {
   "cell_type": "code",
   "execution_count": 109,
   "id": "b9095e55",
   "metadata": {},
   "outputs": [
    {
     "data": {
      "text/plain": [
       "dict_keys(['cats', 'octopi', 'emus'])"
      ]
     },
     "execution_count": 109,
     "metadata": {},
     "output_type": "execute_result"
    }
   ],
   "source": [
    "#15. Print the keys for life['animals'].\n",
    "\n",
    "#Ans:\n",
    "\n",
    "life['animals'].keys()"
   ]
  },
  {
   "cell_type": "code",
   "execution_count": 110,
   "id": "ac3eb091",
   "metadata": {},
   "outputs": [
    {
     "name": "stdout",
     "output_type": "stream",
     "text": [
      "['Henri', 'Grumpy', 'Lucy']\n"
     ]
    }
   ],
   "source": [
    "#16. Print the values for life['animals']['cats']\n",
    "\n",
    "#Ans:\n",
    "\n",
    "print(life['animals']['cats'])"
   ]
  },
  {
   "cell_type": "code",
   "execution_count": null,
   "id": "9ada4d99",
   "metadata": {},
   "outputs": [],
   "source": []
  }
 ],
 "metadata": {
  "kernelspec": {
   "display_name": "Python 3 (ipykernel)",
   "language": "python",
   "name": "python3"
  },
  "language_info": {
   "codemirror_mode": {
    "name": "ipython",
    "version": 3
   },
   "file_extension": ".py",
   "mimetype": "text/x-python",
   "name": "python",
   "nbconvert_exporter": "python",
   "pygments_lexer": "ipython3",
   "version": "3.10.5"
  }
 },
 "nbformat": 4,
 "nbformat_minor": 5
}
