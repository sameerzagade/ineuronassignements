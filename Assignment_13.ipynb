{
 "cells": [
  {
   "cell_type": "code",
   "execution_count": null,
   "id": "6e273cdb",
   "metadata": {},
   "outputs": [],
   "source": [
    "1. What advantages do Excel spreadsheets have over CSV spreadsheets?\n",
    "\n",
    "Ans: Below are the advantages Excel spreadsheets have ovet CSV.\n",
    "    Rich Formatting and Styling, Multiple Sheets and Workbooks, Data Validation and Formulas, Macros and Automation, Data Sorting and Filtering, Data Protection and Security\n",
    "    , Collaboration and Comments and User-Friendly Interface"
   ]
  },
  {
   "cell_type": "code",
   "execution_count": null,
   "id": "75c06aba",
   "metadata": {},
   "outputs": [],
   "source": [
    "2.What do you pass to csv.reader() and csv.writer() to create reader and writer objects?\n",
    "Ans:\n",
    "    We can pass a file object to the csv.reader() and csv.writer() functions to create reader and writer objects, respectively. \n"
   ]
  },
  {
   "cell_type": "code",
   "execution_count": null,
   "id": "3df3c6bd",
   "metadata": {},
   "outputs": [],
   "source": [
    "3. What modes do File objects for reader and writer objects need to be opened in?\n",
    "Ans:\n",
    "    We can open the file in read mode ('r') to create a reader object.\n",
    "    csv.reader('example.csv', 'r')\n",
    "    We can open the file in read mode ('w') to create a writer object.\n",
    "    csv.writer('example.csv', 'w', newline='')"
   ]
  },
  {
   "cell_type": "code",
   "execution_count": null,
   "id": "b0fdc34b",
   "metadata": {},
   "outputs": [],
   "source": [
    "4. What method takes a list argument and writes it to a CSV file?\n",
    "Ans:\n",
    "    The writerow() method of a csv.writer object."
   ]
  },
  {
   "cell_type": "code",
   "execution_count": null,
   "id": "e75e6932",
   "metadata": {},
   "outputs": [],
   "source": [
    "5. What do the keyword arguments delimiter and line terminator do?\n",
    "Ans:\n",
    "     the keyword arguments delimiter and line_terminator allow us to customize the characters used for separating fields within a row and for ending lines \n",
    "    in the CSV file, respectively.\n",
    "    "
   ]
  },
  {
   "cell_type": "code",
   "execution_count": null,
   "id": "12911b8f",
   "metadata": {},
   "outputs": [],
   "source": [
    "6. What function takes a string of JSON data and returns a Python data structure?\n",
    "Ans:\n",
    "    json.loads() "
   ]
  },
  {
   "cell_type": "code",
   "execution_count": null,
   "id": "d0c5b45b",
   "metadata": {},
   "outputs": [],
   "source": [
    "7. What function takes a Python data structure and returns a string of JSON data?\n",
    "\n",
    "Ans:\n",
    "    json.dumps()"
   ]
  }
 ],
 "metadata": {
  "kernelspec": {
   "display_name": "Python 3 (ipykernel)",
   "language": "python",
   "name": "python3"
  },
  "language_info": {
   "codemirror_mode": {
    "name": "ipython",
    "version": 3
   },
   "file_extension": ".py",
   "mimetype": "text/x-python",
   "name": "python",
   "nbconvert_exporter": "python",
   "pygments_lexer": "ipython3",
   "version": "3.10.5"
  }
 },
 "nbformat": 4,
 "nbformat_minor": 5
}
