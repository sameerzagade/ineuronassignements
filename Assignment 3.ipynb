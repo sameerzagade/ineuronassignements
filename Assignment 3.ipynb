{
 "cells": [
  {
   "cell_type": "code",
   "execution_count": null,
   "id": "2547e2db",
   "metadata": {},
   "outputs": [],
   "source": [
    "1. Why are functions advantageous to have in your programs?\n",
    "\n",
    "Ans: \n",
    "    Functions helps to avoid rewriting same code. It helps in code reusability. It improves code readability.\n",
    "Breaking the code down into smaller functions keeps the program structured, understandable, and reusable\n"
   ]
  },
  {
   "cell_type": "code",
   "execution_count": null,
   "id": "e76c29a0",
   "metadata": {},
   "outputs": [],
   "source": [
    "2. When does the code in a function run: when it's specified or when it's called?\n",
    "\n",
    "Ans: \n",
    "    Code in the function runs When its called.\n"
   ]
  },
  {
   "cell_type": "code",
   "execution_count": null,
   "id": "eb1b0b33",
   "metadata": {},
   "outputs": [],
   "source": [
    "3.What statement creates a function?\n",
    "\n",
    "Ans: \n",
    "    The  def statement creates function. def keyword, followed by a name of your choosing, followed by a set of parentheses \n",
    "    which hold any parameters the function will take (they can be empty), and ending with a colon\n"
   ]
  },
  {
   "cell_type": "code",
   "execution_count": null,
   "id": "9c073351",
   "metadata": {},
   "outputs": [],
   "source": [
    "4. What is the difference between a function and a function call?\n",
    "\n",
    "Ans: \n",
    "    Function means structured program which can be used multiple within code. It consists of the def statement \n",
    "    and the code in its def clause.    \n",
    "Function call means calling a function which executes the code written in the function line by line. \n",
    "The function call evaluates to the function’s return value.\n",
    "\n",
    "A function is a block of code that does a particular operation and returns a result. \n",
    "It usually accepts inputs as parameters and returns a result.\n",
    "The parameters are not mandatory. However, a function call is the code used to pass control to a function.\n"
   ]
  },
  {
   "cell_type": "code",
   "execution_count": null,
   "id": "093956dd",
   "metadata": {},
   "outputs": [],
   "source": [
    "5. How many global scopes are there in a Python program? How many local scopes?\n",
    "\n",
    "Ans:\n",
    "    There can be only one Global Scope and a local scope is created whenever a function is called.   \n"
   ]
  },
  {
   "cell_type": "code",
   "execution_count": null,
   "id": "adc96c38",
   "metadata": {},
   "outputs": [],
   "source": [
    "6. What happens to variables in a local scope when the function call returns?\n",
    "\n",
    "Ans: \n",
    "    it gets destroyed when function call returns and all the variables in it are forgotten.\n"
   ]
  },
  {
   "cell_type": "code",
   "execution_count": null,
   "id": "b7d9b10d",
   "metadata": {},
   "outputs": [],
   "source": [
    "7. What is the concept of a return value? Is it possible to have a return value in an expression?\n",
    "\n",
    "Ans: \n",
    "A return value is the value that a function call evaluates to.\n",
    "Like any value, a return value can be used as part of an expression."
   ]
  },
  {
   "cell_type": "code",
   "execution_count": null,
   "id": "4043e7d1",
   "metadata": {},
   "outputs": [],
   "source": [
    "8.If a function does not have a return statement, what is the return value of a call to that function?\n",
    "\n",
    "Ans: \n",
    "If no return statement appears in a function definition, control automatically returns to the calling function after \n",
    "the last statement of the called function is executed. \n",
    "In this case, the return value of the called function is undefined. The return value is None\n"
   ]
  },
  {
   "cell_type": "code",
   "execution_count": null,
   "id": "439c93bc",
   "metadata": {},
   "outputs": [],
   "source": [
    "9. How do you make a function variable refer to the global variable?\n",
    "\n",
    "Ans: \n",
    "    Normally, when you create a variable inside a function, that variable is local, and can only be used inside that function. \n",
    "    To create a global variable inside a function, you can use the global keyword. \n",
    "    A global statement will refer to the global variable.\n"
   ]
  },
  {
   "cell_type": "code",
   "execution_count": null,
   "id": "3bf3c7e4",
   "metadata": {},
   "outputs": [],
   "source": [
    "10. What is the data type of None?\n",
    "\n",
    "Ans: \n",
    "    NoneType is datatype of None.\n"
   ]
  },
  {
   "cell_type": "code",
   "execution_count": null,
   "id": "cc0bdb06",
   "metadata": {},
   "outputs": [],
   "source": [
    "11. What does the sentence import areallyourpetsnamederic do?\n",
    "\n",
    "Ans: \n",
    "    That import statement imports a module named areallyourpetsnamederic.\n"
   ]
  },
  {
   "cell_type": "code",
   "execution_count": null,
   "id": "38582607",
   "metadata": {},
   "outputs": [],
   "source": [
    "12. If you had a bacon() feature in a spam module, what would you call it after importing spam?\n",
    "\n",
    "Ans: \n",
    "    This function can be called with spam.bacon().\n"
   ]
  },
  {
   "cell_type": "code",
   "execution_count": null,
   "id": "542dd18e",
   "metadata": {},
   "outputs": [],
   "source": [
    "13. What can you do to save a programme from crashing if it encounters an error?\n",
    "\n",
    "Ans: \n",
    "    Place the code which might encounters error in try block\n"
   ]
  },
  {
   "cell_type": "code",
   "execution_count": null,
   "id": "11612762",
   "metadata": {},
   "outputs": [],
   "source": [
    "14. What is the purpose of the try clause? What is the purpose of the except clause?\n",
    "\n",
    "Ans: \n",
    "The code that could potentially cause an error goes in the try clause. It helps in execution of complete code even if there is an error.\n",
    "The except block lets you handle the error. The code that executes if an error happens goes in the except clause."
   ]
  }
 ],
 "metadata": {
  "kernelspec": {
   "display_name": "Python 3 (ipykernel)",
   "language": "python",
   "name": "python3"
  },
  "language_info": {
   "codemirror_mode": {
    "name": "ipython",
    "version": 3
   },
   "file_extension": ".py",
   "mimetype": "text/x-python",
   "name": "python",
   "nbconvert_exporter": "python",
   "pygments_lexer": "ipython3",
   "version": "3.10.5"
  }
 },
 "nbformat": 4,
 "nbformat_minor": 5
}
