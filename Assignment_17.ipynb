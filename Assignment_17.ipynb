{
 "cells": [
  {
   "cell_type": "code",
   "execution_count": 26,
   "id": "c1582bf1",
   "metadata": {},
   "outputs": [
    {
     "name": "stdout",
     "output_type": "stream",
     "text": [
      "just right\n"
     ]
    }
   ],
   "source": [
    "#1. Assign the value 7 to the variable guess_me. Then, write the conditional tests (if, else, and elif) to print the string 'too low' if guess_me is less than 7, 'too high' if greater than 7, and 'just right' if equal to 7.\n",
    "\n",
    "# Ans:\n",
    "\n",
    "guess_me = 7\n",
    "\n",
    "if guess_me == 7:\n",
    "    print('just right')\n",
    "elif guess_me > 7:\n",
    "    print(\"too high\")\n",
    "else:\n",
    "    print(\"too low\")\n"
   ]
  },
  {
   "cell_type": "code",
   "execution_count": 59,
   "id": "0c6b7b19",
   "metadata": {},
   "outputs": [
    {
     "name": "stdout",
     "output_type": "stream",
     "text": [
      "start variable is: 1, too low\n",
      "start variable is: 2, too low\n",
      "start variable is: 3, too low\n",
      "start variable is: 4, too low\n",
      "start variable is: 5, too low\n",
      "start variable is: 6, too low\n",
      "start variable is: 7, found it\n"
     ]
    }
   ],
   "source": [
    "#2. Assign the value 7 to the variable guess_me and the value 1 to the variable start. Write a while loop that compares start with guess_me. Print too low if start is less than guess me. If start equals guess_me, print 'found it!' and exit the loop. If start is greater than guess_me, print 'oops' and exit the loop. Increment start at the end of the loop.\n",
    "\n",
    "#Ans:\n",
    "\n",
    "guess_me = 7\n",
    "start = 1\n",
    "\n",
    "while True:\n",
    "    if start < guess_me:\n",
    "        print(f\"start variable is: {start}, too low\")\n",
    "    elif start == guess_me:\n",
    "        print(f\"start variable is: {start}, found it\")\n",
    "        break\n",
    "    else:\n",
    "        print(f\"oops, start variable is greater than guess_me variable\")\n",
    "        break\n",
    "    start +=1\n"
   ]
  },
  {
   "cell_type": "code",
   "execution_count": 60,
   "id": "98bad9dc",
   "metadata": {},
   "outputs": [
    {
     "name": "stdout",
     "output_type": "stream",
     "text": [
      "3\n",
      "2\n",
      "1\n",
      "0\n"
     ]
    }
   ],
   "source": [
    "#3. Print the following values of the list [3, 2, 1, 0] using a for loop.\n",
    "\n",
    "listtoprint = [3,2,1,0]\n",
    "\n",
    "for element in listtoprint:\n",
    "    print(element)"
   ]
  },
  {
   "cell_type": "code",
   "execution_count": 64,
   "id": "3ccf95ab",
   "metadata": {},
   "outputs": [
    {
     "name": "stdout",
     "output_type": "stream",
     "text": [
      "[0, 2, 4, 6, 8]\n"
     ]
    }
   ],
   "source": [
    "#4. Use a list comprehension to make a list of the even numbers in range(10)\n",
    "\n",
    "even_numbers = [i for i in range(10) if i%2==0]\n",
    "print(even_numbers)"
   ]
  },
  {
   "cell_type": "code",
   "execution_count": 68,
   "id": "ed0c305b",
   "metadata": {},
   "outputs": [
    {
     "name": "stdout",
     "output_type": "stream",
     "text": [
      "{0: 0, 1: 1, 2: 4, 3: 9, 4: 16, 5: 25, 6: 36, 7: 49, 8: 64, 9: 81}\n"
     ]
    }
   ],
   "source": [
    "#5. Use a dictionary comprehension to create the dictionary squares. Use range(10) to return the keys, and use the square of each key as its value.\n",
    "\n",
    "#Ans:\n",
    "\n",
    "number_square = {key:key**2 for key in range(10)}\n",
    "print(number_square)\n"
   ]
  },
  {
   "cell_type": "code",
   "execution_count": 69,
   "id": "bb6f28c0",
   "metadata": {},
   "outputs": [
    {
     "name": "stdout",
     "output_type": "stream",
     "text": [
      "{1, 3, 5, 7, 9}\n"
     ]
    }
   ],
   "source": [
    "#6. Construct the set odd from the odd numbers in the range using a set comprehension (10).\n",
    "\n",
    "odd = {i for i in range(10) if i%2==1}\n",
    "print(odd)"
   ]
  },
  {
   "cell_type": "code",
   "execution_count": 77,
   "id": "6ca732b1",
   "metadata": {},
   "outputs": [
    {
     "name": "stdout",
     "output_type": "stream",
     "text": [
      "Got 0\n",
      "Got 1\n",
      "Got 2\n",
      "Got 3\n",
      "Got 4\n",
      "Got 5\n",
      "Got 6\n",
      "Got 7\n",
      "Got 8\n",
      "Got 9\n"
     ]
    }
   ],
   "source": [
    "#7. Use a generator comprehension to return the string 'Got ' and a number for the numbers in range(10). Iterate through this by using a for loop.\n",
    "\n",
    "string_generator = ('Got ' + str(num) for num in range(10))\n",
    "for item in string_generator:\n",
    "    print(item)"
   ]
  },
  {
   "cell_type": "code",
   "execution_count": 81,
   "id": "4e8d9bfa",
   "metadata": {},
   "outputs": [
    {
     "name": "stdout",
     "output_type": "stream",
     "text": [
      "['Harry', 'Ron', 'Hermione']\n"
     ]
    }
   ],
   "source": [
    "# 8. Define a function called good that returns the list ['Harry', 'Ron', 'Hermione'].\n",
    "\n",
    "# Ans:\n",
    "\n",
    "def good():\n",
    "    return ['Harry', 'Ron', 'Hermione']\n",
    "\n",
    "print(good())"
   ]
  },
  {
   "cell_type": "code",
   "execution_count": 97,
   "id": "60f408a5",
   "metadata": {},
   "outputs": [
    {
     "name": "stdout",
     "output_type": "stream",
     "text": [
      "3\n"
     ]
    }
   ],
   "source": [
    "#9. Define a generator function called get_odds that returns the odd numbers from range(10). Use a for loop to find and print the third value returned.\n",
    "\n",
    "def get_odds():\n",
    "    for i in range(10):\n",
    "        if i % 2 ==1:\n",
    "            yield i\n",
    "\n",
    "count=1         \n",
    "for item in get_odds():\n",
    "    count +=1\n",
    "    if count == 3 :\n",
    "        print(item)"
   ]
  },
  {
   "cell_type": "code",
   "execution_count": 115,
   "id": "91226478",
   "metadata": {},
   "outputs": [
    {
     "name": "stdout",
     "output_type": "stream",
     "text": [
      "Caught an oops\n"
     ]
    }
   ],
   "source": [
    "# 10. Define an exception called OopsException. Raise this exception to see what happens. Then write the code to catch this exception and print 'Caught an oops'.\n",
    "\n",
    "\n",
    "class OopsException(Exception):\n",
    "    pass\n",
    "\n",
    "\n",
    "def with_exception(num):\n",
    "    if num % 2 ==0:\n",
    "        raise OopsException(num)\n",
    "try:\n",
    "    with_exception(2)\n",
    "except OopsException as err:\n",
    "    print('Caught an oops')"
   ]
  },
  {
   "cell_type": "code",
   "execution_count": 117,
   "id": "513b8c85",
   "metadata": {},
   "outputs": [
    {
     "name": "stdout",
     "output_type": "stream",
     "text": [
      "{'Creature of Habit': 'A nun turns into a monster', 'Crewel Fate': 'A haunted yarn shop'}\n"
     ]
    }
   ],
   "source": [
    "# 11. Use zip() to make a dictionary called movies that pairs these lists: titles = ['Creature of Habit', 'Crewel Fate'] and plots = ['A nun turns into a monster', 'A haunted yarn shop'].\n",
    "\n",
    "titles = ['Creature of Habit', 'Crewel Fate']\n",
    "plots = ['A nun turns into a monster', 'A haunted yarn shop']\n",
    "\n",
    "movies = {}\n",
    "for titles, plots in zip(titles, plots):\n",
    "    movies[titles] = plots\n",
    "print(movies)"
   ]
  },
  {
   "cell_type": "code",
   "execution_count": null,
   "id": "e380b024",
   "metadata": {},
   "outputs": [],
   "source": []
  }
 ],
 "metadata": {
  "kernelspec": {
   "display_name": "Python 3 (ipykernel)",
   "language": "python",
   "name": "python3"
  },
  "language_info": {
   "codemirror_mode": {
    "name": "ipython",
    "version": 3
   },
   "file_extension": ".py",
   "mimetype": "text/x-python",
   "name": "python",
   "nbconvert_exporter": "python",
   "pygments_lexer": "ipython3",
   "version": "3.10.5"
  }
 },
 "nbformat": 4,
 "nbformat_minor": 5
}
